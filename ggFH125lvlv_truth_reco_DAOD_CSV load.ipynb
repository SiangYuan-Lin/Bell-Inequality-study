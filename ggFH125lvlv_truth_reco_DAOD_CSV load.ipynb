{
 "cells": [
  {
   "cell_type": "code",
   "execution_count": 1,
   "id": "c61b9d76",
   "metadata": {},
   "outputs": [],
   "source": [
    "import numpy as np # linear algebra\n",
    "import pandas as pd # data processing, CSV file I/O (e.g. pd.read_csv)\n",
    "import matplotlib.pyplot as plt\n",
    "import os"
   ]
  },
  {
   "cell_type": "code",
   "execution_count": 2,
   "id": "f3c6e804",
   "metadata": {
    "scrolled": true
   },
   "outputs": [
    {
     "name": "stdout",
     "output_type": "stream",
     "text": [
      "0 ../../public/CSV_output/features_1/noTau_DF/noTau_DF_0.csv\n",
      "1 ../../public/CSV_output/features_1/noTau_DF/noTau_DF_1.csv\n",
      "2 ../../public/CSV_output/features_1/noTau_DF/noTau_DF_10.csv\n",
      "3 ../../public/CSV_output/features_1/noTau_DF/noTau_DF_11.csv\n",
      "4 ../../public/CSV_output/features_1/noTau_DF/noTau_DF_12.csv\n",
      "5 ../../public/CSV_output/features_1/noTau_DF/noTau_DF_13.csv\n",
      "6 ../../public/CSV_output/features_1/noTau_DF/noTau_DF_14.csv\n",
      "7 ../../public/CSV_output/features_1/noTau_DF/noTau_DF_15.csv\n",
      "8 ../../public/CSV_output/features_1/noTau_DF/noTau_DF_16.csv\n",
      "9 ../../public/CSV_output/features_1/noTau_DF/noTau_DF_2.csv\n",
      "10 ../../public/CSV_output/features_1/noTau_DF/noTau_DF_3.csv\n",
      "11 ../../public/CSV_output/features_1/noTau_DF/noTau_DF_4.csv\n",
      "12 ../../public/CSV_output/features_1/noTau_DF/noTau_DF_5.csv\n",
      "13 ../../public/CSV_output/features_1/noTau_DF/noTau_DF_6.csv\n",
      "14 ../../public/CSV_output/features_1/noTau_DF/noTau_DF_7.csv\n",
      "15 ../../public/CSV_output/features_1/noTau_DF/noTau_DF_8.csv\n",
      "16 ../../public/CSV_output/features_1/noTau_DF/noTau_DF_9.csv\n",
      "17 ../../public/CSV_output/features_1/reco_MET/reco_MET_0.csv\n",
      "18 ../../public/CSV_output/features_1/reco_MET/reco_MET_1.csv\n",
      "19 ../../public/CSV_output/features_1/reco_MET/reco_MET_10.csv\n",
      "20 ../../public/CSV_output/features_1/reco_MET/reco_MET_11.csv\n",
      "21 ../../public/CSV_output/features_1/reco_MET/reco_MET_12.csv\n",
      "22 ../../public/CSV_output/features_1/reco_MET/reco_MET_13.csv\n",
      "23 ../../public/CSV_output/features_1/reco_MET/reco_MET_14.csv\n",
      "24 ../../public/CSV_output/features_1/reco_MET/reco_MET_15.csv\n",
      "25 ../../public/CSV_output/features_1/reco_MET/reco_MET_16.csv\n",
      "26 ../../public/CSV_output/features_1/reco_MET/reco_MET_2.csv\n",
      "27 ../../public/CSV_output/features_1/reco_MET/reco_MET_3.csv\n",
      "28 ../../public/CSV_output/features_1/reco_MET/reco_MET_4.csv\n",
      "29 ../../public/CSV_output/features_1/reco_MET/reco_MET_5.csv\n",
      "30 ../../public/CSV_output/features_1/reco_MET/reco_MET_6.csv\n",
      "31 ../../public/CSV_output/features_1/reco_MET/reco_MET_7.csv\n",
      "32 ../../public/CSV_output/features_1/reco_MET/reco_MET_8.csv\n",
      "33 ../../public/CSV_output/features_1/reco_MET/reco_MET_9.csv\n",
      "34 ../../public/CSV_output/features_1/reco_leading_lep/reco_leading_lep_0.csv\n",
      "35 ../../public/CSV_output/features_1/reco_leading_lep/reco_leading_lep_1.csv\n",
      "36 ../../public/CSV_output/features_1/reco_leading_lep/reco_leading_lep_10.csv\n",
      "37 ../../public/CSV_output/features_1/reco_leading_lep/reco_leading_lep_11.csv\n",
      "38 ../../public/CSV_output/features_1/reco_leading_lep/reco_leading_lep_12.csv\n",
      "39 ../../public/CSV_output/features_1/reco_leading_lep/reco_leading_lep_13.csv\n",
      "40 ../../public/CSV_output/features_1/reco_leading_lep/reco_leading_lep_14.csv\n",
      "41 ../../public/CSV_output/features_1/reco_leading_lep/reco_leading_lep_15.csv\n",
      "42 ../../public/CSV_output/features_1/reco_leading_lep/reco_leading_lep_16.csv\n",
      "43 ../../public/CSV_output/features_1/reco_leading_lep/reco_leading_lep_2.csv\n",
      "44 ../../public/CSV_output/features_1/reco_leading_lep/reco_leading_lep_3.csv\n",
      "45 ../../public/CSV_output/features_1/reco_leading_lep/reco_leading_lep_4.csv\n",
      "46 ../../public/CSV_output/features_1/reco_leading_lep/reco_leading_lep_5.csv\n",
      "47 ../../public/CSV_output/features_1/reco_leading_lep/reco_leading_lep_6.csv\n",
      "48 ../../public/CSV_output/features_1/reco_leading_lep/reco_leading_lep_7.csv\n",
      "49 ../../public/CSV_output/features_1/reco_leading_lep/reco_leading_lep_8.csv\n",
      "50 ../../public/CSV_output/features_1/reco_leading_lep/reco_leading_lep_9.csv\n",
      "51 ../../public/CSV_output/features_1/reco_sublead_lep/reco_sublead_lep_0.csv\n",
      "52 ../../public/CSV_output/features_1/reco_sublead_lep/reco_sublead_lep_1.csv\n",
      "53 ../../public/CSV_output/features_1/reco_sublead_lep/reco_sublead_lep_10.csv\n",
      "54 ../../public/CSV_output/features_1/reco_sublead_lep/reco_sublead_lep_11.csv\n",
      "55 ../../public/CSV_output/features_1/reco_sublead_lep/reco_sublead_lep_12.csv\n",
      "56 ../../public/CSV_output/features_1/reco_sublead_lep/reco_sublead_lep_13.csv\n",
      "57 ../../public/CSV_output/features_1/reco_sublead_lep/reco_sublead_lep_14.csv\n",
      "58 ../../public/CSV_output/features_1/reco_sublead_lep/reco_sublead_lep_15.csv\n",
      "59 ../../public/CSV_output/features_1/reco_sublead_lep/reco_sublead_lep_16.csv\n",
      "60 ../../public/CSV_output/features_1/reco_sublead_lep/reco_sublead_lep_2.csv\n",
      "61 ../../public/CSV_output/features_1/reco_sublead_lep/reco_sublead_lep_3.csv\n",
      "62 ../../public/CSV_output/features_1/reco_sublead_lep/reco_sublead_lep_4.csv\n",
      "63 ../../public/CSV_output/features_1/reco_sublead_lep/reco_sublead_lep_5.csv\n",
      "64 ../../public/CSV_output/features_1/reco_sublead_lep/reco_sublead_lep_6.csv\n",
      "65 ../../public/CSV_output/features_1/reco_sublead_lep/reco_sublead_lep_7.csv\n",
      "66 ../../public/CSV_output/features_1/reco_sublead_lep/reco_sublead_lep_8.csv\n",
      "67 ../../public/CSV_output/features_1/reco_sublead_lep/reco_sublead_lep_9.csv\n",
      "68 ../../public/CSV_output/features_1/truth_Higgs/truth_Higgs_0.csv\n",
      "69 ../../public/CSV_output/features_1/truth_Higgs/truth_Higgs_1.csv\n",
      "70 ../../public/CSV_output/features_1/truth_Higgs/truth_Higgs_10.csv\n",
      "71 ../../public/CSV_output/features_1/truth_Higgs/truth_Higgs_11.csv\n",
      "72 ../../public/CSV_output/features_1/truth_Higgs/truth_Higgs_12.csv\n",
      "73 ../../public/CSV_output/features_1/truth_Higgs/truth_Higgs_13.csv\n",
      "74 ../../public/CSV_output/features_1/truth_Higgs/truth_Higgs_14.csv\n",
      "75 ../../public/CSV_output/features_1/truth_Higgs/truth_Higgs_15.csv\n",
      "76 ../../public/CSV_output/features_1/truth_Higgs/truth_Higgs_16.csv\n",
      "77 ../../public/CSV_output/features_1/truth_Higgs/truth_Higgs_2.csv\n",
      "78 ../../public/CSV_output/features_1/truth_Higgs/truth_Higgs_3.csv\n",
      "79 ../../public/CSV_output/features_1/truth_Higgs/truth_Higgs_4.csv\n",
      "80 ../../public/CSV_output/features_1/truth_Higgs/truth_Higgs_5.csv\n",
      "81 ../../public/CSV_output/features_1/truth_Higgs/truth_Higgs_6.csv\n",
      "82 ../../public/CSV_output/features_1/truth_Higgs/truth_Higgs_7.csv\n",
      "83 ../../public/CSV_output/features_1/truth_Higgs/truth_Higgs_8.csv\n",
      "84 ../../public/CSV_output/features_1/truth_Higgs/truth_Higgs_9.csv\n",
      "85 ../../public/CSV_output/features_1/truth_MET/truth_MET_0.csv\n",
      "86 ../../public/CSV_output/features_1/truth_MET/truth_MET_1.csv\n",
      "87 ../../public/CSV_output/features_1/truth_MET/truth_MET_10.csv\n",
      "88 ../../public/CSV_output/features_1/truth_MET/truth_MET_11.csv\n",
      "89 ../../public/CSV_output/features_1/truth_MET/truth_MET_12.csv\n",
      "90 ../../public/CSV_output/features_1/truth_MET/truth_MET_13.csv\n",
      "91 ../../public/CSV_output/features_1/truth_MET/truth_MET_14.csv\n",
      "92 ../../public/CSV_output/features_1/truth_MET/truth_MET_15.csv\n",
      "93 ../../public/CSV_output/features_1/truth_MET/truth_MET_16.csv\n",
      "94 ../../public/CSV_output/features_1/truth_MET/truth_MET_2.csv\n",
      "95 ../../public/CSV_output/features_1/truth_MET/truth_MET_3.csv\n",
      "96 ../../public/CSV_output/features_1/truth_MET/truth_MET_4.csv\n",
      "97 ../../public/CSV_output/features_1/truth_MET/truth_MET_5.csv\n",
      "98 ../../public/CSV_output/features_1/truth_MET/truth_MET_6.csv\n",
      "99 ../../public/CSV_output/features_1/truth_MET/truth_MET_7.csv\n",
      "100 ../../public/CSV_output/features_1/truth_MET/truth_MET_8.csv\n",
      "101 ../../public/CSV_output/features_1/truth_MET/truth_MET_9.csv\n",
      "102 ../../public/CSV_output/features_1/truth_leading_lep/truth_leading_lep_0.csv\n",
      "103 ../../public/CSV_output/features_1/truth_leading_lep/truth_leading_lep_1.csv\n",
      "104 ../../public/CSV_output/features_1/truth_leading_lep/truth_leading_lep_10.csv\n",
      "105 ../../public/CSV_output/features_1/truth_leading_lep/truth_leading_lep_11.csv\n",
      "106 ../../public/CSV_output/features_1/truth_leading_lep/truth_leading_lep_12.csv\n",
      "107 ../../public/CSV_output/features_1/truth_leading_lep/truth_leading_lep_13.csv\n",
      "108 ../../public/CSV_output/features_1/truth_leading_lep/truth_leading_lep_14.csv\n",
      "109 ../../public/CSV_output/features_1/truth_leading_lep/truth_leading_lep_15.csv\n",
      "110 ../../public/CSV_output/features_1/truth_leading_lep/truth_leading_lep_16.csv\n",
      "111 ../../public/CSV_output/features_1/truth_leading_lep/truth_leading_lep_2.csv\n",
      "112 ../../public/CSV_output/features_1/truth_leading_lep/truth_leading_lep_3.csv\n",
      "113 ../../public/CSV_output/features_1/truth_leading_lep/truth_leading_lep_4.csv\n",
      "114 ../../public/CSV_output/features_1/truth_leading_lep/truth_leading_lep_5.csv\n",
      "115 ../../public/CSV_output/features_1/truth_leading_lep/truth_leading_lep_6.csv\n",
      "116 ../../public/CSV_output/features_1/truth_leading_lep/truth_leading_lep_7.csv\n",
      "117 ../../public/CSV_output/features_1/truth_leading_lep/truth_leading_lep_8.csv\n",
      "118 ../../public/CSV_output/features_1/truth_leading_lep/truth_leading_lep_9.csv\n",
      "119 ../../public/CSV_output/features_1/truth_leading_nu/truth_leading_nu_0.csv\n",
      "120 ../../public/CSV_output/features_1/truth_leading_nu/truth_leading_nu_1.csv\n",
      "121 ../../public/CSV_output/features_1/truth_leading_nu/truth_leading_nu_10.csv\n",
      "122 ../../public/CSV_output/features_1/truth_leading_nu/truth_leading_nu_11.csv\n",
      "123 ../../public/CSV_output/features_1/truth_leading_nu/truth_leading_nu_12.csv\n",
      "124 ../../public/CSV_output/features_1/truth_leading_nu/truth_leading_nu_13.csv\n",
      "125 ../../public/CSV_output/features_1/truth_leading_nu/truth_leading_nu_14.csv\n",
      "126 ../../public/CSV_output/features_1/truth_leading_nu/truth_leading_nu_15.csv\n",
      "127 ../../public/CSV_output/features_1/truth_leading_nu/truth_leading_nu_16.csv\n",
      "128 ../../public/CSV_output/features_1/truth_leading_nu/truth_leading_nu_2.csv\n",
      "129 ../../public/CSV_output/features_1/truth_leading_nu/truth_leading_nu_3.csv\n",
      "130 ../../public/CSV_output/features_1/truth_leading_nu/truth_leading_nu_4.csv\n",
      "131 ../../public/CSV_output/features_1/truth_leading_nu/truth_leading_nu_5.csv\n",
      "132 ../../public/CSV_output/features_1/truth_leading_nu/truth_leading_nu_6.csv\n",
      "133 ../../public/CSV_output/features_1/truth_leading_nu/truth_leading_nu_7.csv\n",
      "134 ../../public/CSV_output/features_1/truth_leading_nu/truth_leading_nu_8.csv\n",
      "135 ../../public/CSV_output/features_1/truth_leading_nu/truth_leading_nu_9.csv\n",
      "136 ../../public/CSV_output/features_1/truth_leading_w/truth_leading_w_0.csv\n",
      "137 ../../public/CSV_output/features_1/truth_leading_w/truth_leading_w_1.csv\n",
      "138 ../../public/CSV_output/features_1/truth_leading_w/truth_leading_w_10.csv\n",
      "139 ../../public/CSV_output/features_1/truth_leading_w/truth_leading_w_11.csv\n",
      "140 ../../public/CSV_output/features_1/truth_leading_w/truth_leading_w_12.csv\n",
      "141 ../../public/CSV_output/features_1/truth_leading_w/truth_leading_w_13.csv\n",
      "142 ../../public/CSV_output/features_1/truth_leading_w/truth_leading_w_14.csv\n",
      "143 ../../public/CSV_output/features_1/truth_leading_w/truth_leading_w_15.csv\n",
      "144 ../../public/CSV_output/features_1/truth_leading_w/truth_leading_w_16.csv\n",
      "145 ../../public/CSV_output/features_1/truth_leading_w/truth_leading_w_2.csv\n",
      "146 ../../public/CSV_output/features_1/truth_leading_w/truth_leading_w_3.csv\n",
      "147 ../../public/CSV_output/features_1/truth_leading_w/truth_leading_w_4.csv\n",
      "148 ../../public/CSV_output/features_1/truth_leading_w/truth_leading_w_5.csv\n",
      "149 ../../public/CSV_output/features_1/truth_leading_w/truth_leading_w_6.csv\n",
      "150 ../../public/CSV_output/features_1/truth_leading_w/truth_leading_w_7.csv\n",
      "151 ../../public/CSV_output/features_1/truth_leading_w/truth_leading_w_8.csv\n",
      "152 ../../public/CSV_output/features_1/truth_leading_w/truth_leading_w_9.csv\n",
      "153 ../../public/CSV_output/features_1/truth_sublead_lep/truth_sublead_lep_0.csv\n",
      "154 ../../public/CSV_output/features_1/truth_sublead_lep/truth_sublead_lep_1.csv\n",
      "155 ../../public/CSV_output/features_1/truth_sublead_lep/truth_sublead_lep_10.csv\n",
      "156 ../../public/CSV_output/features_1/truth_sublead_lep/truth_sublead_lep_11.csv\n",
      "157 ../../public/CSV_output/features_1/truth_sublead_lep/truth_sublead_lep_12.csv\n",
      "158 ../../public/CSV_output/features_1/truth_sublead_lep/truth_sublead_lep_13.csv\n",
      "159 ../../public/CSV_output/features_1/truth_sublead_lep/truth_sublead_lep_14.csv\n",
      "160 ../../public/CSV_output/features_1/truth_sublead_lep/truth_sublead_lep_15.csv\n",
      "161 ../../public/CSV_output/features_1/truth_sublead_lep/truth_sublead_lep_16.csv\n",
      "162 ../../public/CSV_output/features_1/truth_sublead_lep/truth_sublead_lep_2.csv\n",
      "163 ../../public/CSV_output/features_1/truth_sublead_lep/truth_sublead_lep_3.csv\n",
      "164 ../../public/CSV_output/features_1/truth_sublead_lep/truth_sublead_lep_4.csv\n",
      "165 ../../public/CSV_output/features_1/truth_sublead_lep/truth_sublead_lep_5.csv\n",
      "166 ../../public/CSV_output/features_1/truth_sublead_lep/truth_sublead_lep_6.csv\n",
      "167 ../../public/CSV_output/features_1/truth_sublead_lep/truth_sublead_lep_7.csv\n",
      "168 ../../public/CSV_output/features_1/truth_sublead_lep/truth_sublead_lep_8.csv\n",
      "169 ../../public/CSV_output/features_1/truth_sublead_lep/truth_sublead_lep_9.csv\n",
      "170 ../../public/CSV_output/features_1/truth_sublead_nu/truth_sublead_nu_0.csv\n",
      "171 ../../public/CSV_output/features_1/truth_sublead_nu/truth_sublead_nu_1.csv\n",
      "172 ../../public/CSV_output/features_1/truth_sublead_nu/truth_sublead_nu_10.csv\n",
      "173 ../../public/CSV_output/features_1/truth_sublead_nu/truth_sublead_nu_11.csv\n",
      "174 ../../public/CSV_output/features_1/truth_sublead_nu/truth_sublead_nu_12.csv\n",
      "175 ../../public/CSV_output/features_1/truth_sublead_nu/truth_sublead_nu_13.csv\n",
      "176 ../../public/CSV_output/features_1/truth_sublead_nu/truth_sublead_nu_14.csv\n",
      "177 ../../public/CSV_output/features_1/truth_sublead_nu/truth_sublead_nu_15.csv\n",
      "178 ../../public/CSV_output/features_1/truth_sublead_nu/truth_sublead_nu_16.csv\n",
      "179 ../../public/CSV_output/features_1/truth_sublead_nu/truth_sublead_nu_2.csv\n",
      "180 ../../public/CSV_output/features_1/truth_sublead_nu/truth_sublead_nu_3.csv\n",
      "181 ../../public/CSV_output/features_1/truth_sublead_nu/truth_sublead_nu_4.csv\n",
      "182 ../../public/CSV_output/features_1/truth_sublead_nu/truth_sublead_nu_5.csv\n",
      "183 ../../public/CSV_output/features_1/truth_sublead_nu/truth_sublead_nu_6.csv\n",
      "184 ../../public/CSV_output/features_1/truth_sublead_nu/truth_sublead_nu_7.csv\n",
      "185 ../../public/CSV_output/features_1/truth_sublead_nu/truth_sublead_nu_8.csv\n",
      "186 ../../public/CSV_output/features_1/truth_sublead_nu/truth_sublead_nu_9.csv\n",
      "187 ../../public/CSV_output/features_1/truth_sublead_w/truth_sublead_w_0.csv\n",
      "188 ../../public/CSV_output/features_1/truth_sublead_w/truth_sublead_w_1.csv\n",
      "189 ../../public/CSV_output/features_1/truth_sublead_w/truth_sublead_w_10.csv\n",
      "190 ../../public/CSV_output/features_1/truth_sublead_w/truth_sublead_w_11.csv\n",
      "191 ../../public/CSV_output/features_1/truth_sublead_w/truth_sublead_w_12.csv\n",
      "192 ../../public/CSV_output/features_1/truth_sublead_w/truth_sublead_w_13.csv\n",
      "193 ../../public/CSV_output/features_1/truth_sublead_w/truth_sublead_w_14.csv\n",
      "194 ../../public/CSV_output/features_1/truth_sublead_w/truth_sublead_w_15.csv\n",
      "195 ../../public/CSV_output/features_1/truth_sublead_w/truth_sublead_w_16.csv\n",
      "196 ../../public/CSV_output/features_1/truth_sublead_w/truth_sublead_w_2.csv\n",
      "197 ../../public/CSV_output/features_1/truth_sublead_w/truth_sublead_w_3.csv\n",
      "198 ../../public/CSV_output/features_1/truth_sublead_w/truth_sublead_w_4.csv\n",
      "199 ../../public/CSV_output/features_1/truth_sublead_w/truth_sublead_w_5.csv\n",
      "200 ../../public/CSV_output/features_1/truth_sublead_w/truth_sublead_w_6.csv\n",
      "201 ../../public/CSV_output/features_1/truth_sublead_w/truth_sublead_w_7.csv\n",
      "202 ../../public/CSV_output/features_1/truth_sublead_w/truth_sublead_w_8.csv\n",
      "203 ../../public/CSV_output/features_1/truth_sublead_w/truth_sublead_w_9.csv\n"
     ]
    }
   ],
   "source": [
    "filepath = '../../public/CSV_output/features_1/'\n",
    "i = 0\n",
    "for dirname, _, filenames in os.walk(filepath):\n",
    "    for filename in filenames:\n",
    "        print(i,os.path.join(dirname, filename))\n",
    "        i = i+1"
   ]
  },
  {
   "cell_type": "code",
   "execution_count": 30,
   "id": "4e716f3b",
   "metadata": {
    "scrolled": true
   },
   "outputs": [
    {
     "name": "stdout",
     "output_type": "stream",
     "text": [
      "0_0\n",
      "0_1\n",
      "0_2\n",
      "0_3\n",
      "0_4\n",
      "0_5\n",
      "0_6\n",
      "0_7\n",
      "0_8\n",
      "0_9\n",
      "0_10\n",
      "0_11\n",
      "0_12\n",
      "0_13\n",
      "0_14\n",
      "0_15\n",
      "0_16\n",
      "0_17\n",
      "0_18\n",
      "0_19\n",
      "0_20\n",
      "0_21\n",
      "0_22\n",
      "0_23\n",
      "0_24\n",
      "1_0\n",
      "1_1\n",
      "1_2\n",
      "1_3\n",
      "1_4\n",
      "1_5\n",
      "1_6\n",
      "1_7\n",
      "1_8\n",
      "1_9\n",
      "1_10\n",
      "1_11\n",
      "1_12\n",
      "1_13\n",
      "1_14\n",
      "1_15\n",
      "1_16\n",
      "1_17\n",
      "1_18\n",
      "1_19\n",
      "1_20\n",
      "1_21\n",
      "1_22\n",
      "1_23\n",
      "1_24\n",
      "2_0\n",
      "2_1\n",
      "2_2\n",
      "2_3\n",
      "2_4\n",
      "2_5\n",
      "2_6\n",
      "2_7\n",
      "2_8\n",
      "2_9\n",
      "2_10\n",
      "2_11\n",
      "2_12\n",
      "2_13\n",
      "2_14\n",
      "2_15\n",
      "2_16\n",
      "2_17\n",
      "2_18\n",
      "2_19\n",
      "2_20\n",
      "2_21\n",
      "2_22\n",
      "2_23\n",
      "2_24\n",
      "3_0\n",
      "3_1\n",
      "3_2\n",
      "3_3\n",
      "3_4\n",
      "3_5\n",
      "3_6\n",
      "3_7\n",
      "3_8\n",
      "3_9\n",
      "3_10\n",
      "3_11\n",
      "3_12\n",
      "3_13\n",
      "3_14\n",
      "3_15\n",
      "3_16\n",
      "3_17\n",
      "3_18\n",
      "3_19\n",
      "3_20\n",
      "3_21\n",
      "3_22\n",
      "3_23\n",
      "3_24\n",
      "4_0\n",
      "4_1\n",
      "4_2\n",
      "4_3\n",
      "4_4\n",
      "4_5\n",
      "4_6\n",
      "4_7\n",
      "4_8\n",
      "4_9\n",
      "4_10\n",
      "4_11\n",
      "4_12\n",
      "4_13\n",
      "4_14\n",
      "4_15\n",
      "4_16\n",
      "4_17\n",
      "4_18\n",
      "4_19\n",
      "4_20\n",
      "4_21\n",
      "4_22\n",
      "4_23\n",
      "4_24\n",
      "5_0\n",
      "5_1\n",
      "5_2\n",
      "5_3\n",
      "5_4\n",
      "5_5\n",
      "5_6\n",
      "5_7\n",
      "5_8\n",
      "5_9\n",
      "5_10\n",
      "5_11\n",
      "5_12\n",
      "5_13\n",
      "5_14\n",
      "5_15\n",
      "5_16\n",
      "5_17\n",
      "5_18\n",
      "5_19\n",
      "5_20\n",
      "5_21\n",
      "5_22\n",
      "5_23\n",
      "5_24\n",
      "6_0\n",
      "6_1\n",
      "6_2\n",
      "6_3\n",
      "6_4\n",
      "6_5\n",
      "6_6\n",
      "6_7\n",
      "6_8\n",
      "6_9\n",
      "6_10\n",
      "6_11\n",
      "6_12\n",
      "6_13\n",
      "6_14\n",
      "6_15\n",
      "6_16\n",
      "6_17\n",
      "6_18\n",
      "6_19\n",
      "6_20\n",
      "6_21\n",
      "6_22\n",
      "6_23\n",
      "6_24\n",
      "7_0\n",
      "7_1\n",
      "7_2\n",
      "7_3\n",
      "7_4\n",
      "7_5\n",
      "7_6\n",
      "7_7\n",
      "7_8\n",
      "7_9\n",
      "7_10\n",
      "7_11\n",
      "7_12\n",
      "7_13\n",
      "7_14\n",
      "7_15\n",
      "7_16\n",
      "7_17\n",
      "7_18\n",
      "7_19\n",
      "7_20\n",
      "7_21\n",
      "7_22\n",
      "7_23\n",
      "7_24\n",
      "8_0\n",
      "8_1\n",
      "8_2\n",
      "8_3\n",
      "8_4\n",
      "8_5\n",
      "8_6\n",
      "8_7\n",
      "8_8\n",
      "8_9\n",
      "8_10\n",
      "8_11\n",
      "8_12\n",
      "8_13\n",
      "8_14\n",
      "8_15\n",
      "8_16\n",
      "8_17\n",
      "8_18\n",
      "8_19\n",
      "8_20\n",
      "8_21\n",
      "8_22\n",
      "8_23\n",
      "8_24\n",
      "9_0\n",
      "9_1\n",
      "9_2\n",
      "9_3\n",
      "9_4\n",
      "9_5\n",
      "9_6\n",
      "9_7\n",
      "9_8\n",
      "9_9\n",
      "9_10\n",
      "9_11\n",
      "9_12\n",
      "9_13\n",
      "9_14\n",
      "9_15\n",
      "9_16\n",
      "9_17\n",
      "9_18\n",
      "9_19\n",
      "9_20\n",
      "9_21\n",
      "9_22\n",
      "9_23\n",
      "Total Events: 24895000\n",
      "Removed Events: 19419464 (78.0055%)\n",
      "Valid Events: 5475536 (21.9945%)\n",
      "CPU times: user 1min 26s, sys: 8.21 s, total: 1min 34s\n",
      "Wall time: 2min 3s\n"
     ]
    }
   ],
   "source": [
    "%%time\n",
    "filepath = '../../bkg_sample/bkg_sample_features/'\n",
    "Higgs_E = np.array([])\n",
    "for i in range(10):\n",
    "    for j in range(25):\n",
    "        if j==24 and i==9:\n",
    "            continue\n",
    "        else:\n",
    "            print(f'{i}_{j}')\n",
    "            E = np.genfromtxt(filepath+f'xi_xyz/xi_p_m_xyz_{i}_{j}.csv',usecols=0,delimiter=',')\n",
    "            Higgs_E = np.concatenate([Higgs_E,E])\n",
    "            \n",
    "_removed_rows = np.where(Higgs_E == -99999, False, True)\n",
    "_, count = np.unique(_removed_rows,return_counts=True)\n",
    "print(f'Total Events: {len(_removed_rows)}\\n'+\n",
    "      f'Removed Events: {count[0]} ({\"%.4f\"% (100*count[0]/len(_removed_rows))}%)\\n'+\n",
    "      f'Valid Events: {count[1]} ({\"%.4f\"% (100*count[1]/len(_removed_rows))}%)')"
   ]
  },
  {
   "cell_type": "code",
   "execution_count": null,
   "id": "60ab1185",
   "metadata": {},
   "outputs": [],
   "source": [
    "LeptonP = pd.DataFrame()\n",
    "LeptonM = pd.DataFrame()\n",
    "for i,x in enumerate(['E','px','py','pz']):\n",
    "    LeptonP[x] = np.genfromtxt(filepath+f')\n",
    "    "
   ]
  },
  {
   "cell_type": "code",
   "execution_count": 108,
   "id": "369f00dd",
   "metadata": {},
   "outputs": [],
   "source": [
    "i=2\n",
    "j=2\n",
    "E  = np.genfromtxt(filepath+f'Higgs/Higgs_{i}_{j}.csv',usecols=0,delimiter=',')\n",
    "px = np.genfromtxt(filepath+f'Higgs/Higgs_{i}_{j}.csv',usecols=1,delimiter=',')\n",
    "py = np.genfromtxt(filepath+f'Higgs/Higgs_{i}_{j}.csv',usecols=2,delimiter=',')\n",
    "pz = np.genfromtxt(filepath+f'Higgs/Higgs_{i}_{j}.csv',usecols=3,delimiter=',')\n",
    "M  = np.genfromtxt(filepath+f'Higgs/Higgs_{i}_{j}.csv',usecols=4,delimiter=',')"
   ]
  },
  {
   "cell_type": "code",
   "execution_count": 120,
   "id": "31d6d92b",
   "metadata": {},
   "outputs": [
    {
     "data": {
      "image/png": "[encoded data removed]",
      "text/plain": [
       "<Figure size 1440x288 with 5 Axes>"
      ]
     },
     "metadata": {
      "needs_background": "light"
     },
     "output_type": "display_data"
    }
   ],
   "source": [
    "fig,ax = plt.subplots(nrows=1,ncols=5,figsize=(20,4),tight_layout=True)\n",
    "ax[0].hist( E[E!=-99999]/1000,histtype='step',bins=50,lw=2,range=[0,4000])\n",
    "ax[1].hist(px[E!=-99999]/1000,histtype='step',bins=50,lw=2,range=[-200,200])\n",
    "ax[2].hist(py[E!=-99999]/1000,histtype='step',bins=50,lw=2,range=[-200,200])\n",
    "ax[3].hist(pz[E!=-99999]/1000,histtype='step',bins=50,lw=2,range=[-4000,4000])\n",
    "m = np.sqrt(E[ E!=-99999]**2 - (px[ E!=-99999]**2 + py[ E!=-99999]**2 + pz[ E!=-99999]**2))\n",
    "ax[4].hist( m/1000,histtype='step',bins=50,lw=2, range = [0,1000])\n",
    "plt.show()"
   ]
  },
  {
   "cell_type": "code",
   "execution_count": 118,
   "id": "c77b3204",
   "metadata": {},
   "outputs": [
    {
     "data": {
      "text/plain": [
       "(array([ True]), array([22159]))"
      ]
     },
     "execution_count": 118,
     "metadata": {},
     "output_type": "execute_result"
    }
   ],
   "source": [
    "evts = np.where(E[ E!=-99999]**2 - (px[ E!=-99999]**2 + py[ E!=-99999]**2 + pz[ E!=-99999]**2)> 0,True, False)\n",
    "np.unique(evts, return_counts=True)"
   ]
  },
  {
   "cell_type": "code",
   "execution_count": 4,
   "id": "7fb6f22e",
   "metadata": {},
   "outputs": [
    {
     "name": "stdout",
     "output_type": "stream",
     "text": [
      "CPU times: user 14.8 ms, sys: 1.77 ms, total: 16.5 ms\n",
      "Wall time: 15.6 ms\n"
     ]
    },
    {
     "data": {
      "text/plain": [
       "\"\\nxi_labels = ['xi_p_x', 'xi_p_y', 'xi_p_z','xi_m_x', 'xi_m_y', 'xi_m_z']\\nxi_p_m_xyz = pd.DataFrame(columns=xi_labels) #12\\nCGLMP_labels = ['B_xy', 'B_yz', 'B_zx']\\nBxy_yz_zx = pd.DataFrame(columns=CGLMP_labels) #13\\nlabels = [particle_labels, MET_labels, xi_labels, CGLMP_labels]\\nfilenames = ['LeptonP', 'LeptonM', 'diLepton', 'LeadLepton', 'subLeadLepton', 'LpNu', 'LmNu', 'WpBoson', 'WmBoson', 'Higgs', 'MET', 'xi_p_m_xyz', 'Bxy_yz_zx']\\ndata =      [ LeptonP ,  LeptonM ,  diLepton ,  LeadLepton ,  subLeadLepton,NeutrinoP,NeutrinoM,WpBoson,  WmBoson ,  Higgs ,  MET ,  xi_p_m_xyz , Bxy_yz_zx ]\\n\""
      ]
     },
     "execution_count": 4,
     "metadata": {},
     "output_type": "execute_result"
    }
   ],
   "source": [
    "%%time\n",
    "truth_particle_labels = ['E', 'px', 'py', 'pz', 'm2', 'pt', 'eta', 'phi', 'pdgid']\n",
    "reco_particle_labels  = ['E', 'px', 'py', 'pz', 'm' , 'pt', 'eta', 'phi']\n",
    "MET_labels = ['pt', 'px', 'py,', 'phi']\n",
    "recoMET         = pd.DataFrame(columns= MET_labels)\n",
    "recoLeadingLep  = pd.DataFrame(columns= reco_particle_labels)\n",
    "recoSubleadLep  = pd.DataFrame(columns= reco_particle_labels)\n",
    "truthMET        = pd.DataFrame(columns= MET_labels)\n",
    "truthLeadingLep = pd.DataFrame(columns=truth_particle_labels)\n",
    "truthSubleadLep = pd.DataFrame(columns=truth_particle_labels)\n",
    "truthLeadingNu  = pd.DataFrame(columns=truth_particle_labels)\n",
    "truthSubleadNu  = pd.DataFrame(columns=truth_particle_labels)\n",
    "truthLeadingW   = pd.DataFrame(columns=truth_particle_labels)\n",
    "truthSubleadW   = pd.DataFrame(columns=truth_particle_labels)\n",
    "truthHiggs      = pd.DataFrame(columns=truth_particle_labels)\n",
    "#particle->e(),particle->px(),particle->py(),particle->pz(),\n",
    "#particle->m(),particle->pt(),particle->eta(),particle->phi(),particle->rapidity()\n",
    "#LeptonP = pd.DataFrame(columns=particle_labels) #1\n",
    "#LeptonM = pd.DataFrame(columns=particle_labels) #2\n",
    "#recoDiLepton    = pd.DataFrame(columns= reco_particle_labels)\n",
    "#truthDiLepton   = pd.DataFrame(columns=truth_particle_labels)\n",
    "#WpBoson = pd.DataFrame(columns=particle_labels) #8\n",
    "#WmBoson = pd.DataFrame(columns=particle_labels) #9\n",
    "\n",
    "'''\n",
    "xi_labels = ['xi_p_x', 'xi_p_y', 'xi_p_z','xi_m_x', 'xi_m_y', 'xi_m_z']\n",
    "xi_p_m_xyz = pd.DataFrame(columns=xi_labels) #12\n",
    "CGLMP_labels = ['B_xy', 'B_yz', 'B_zx']\n",
    "Bxy_yz_zx = pd.DataFrame(columns=CGLMP_labels) #13\n",
    "labels = [particle_labels, MET_labels, xi_labels, CGLMP_labels]\n",
    "filenames = ['LeptonP', 'LeptonM', 'diLepton', 'LeadLepton', 'subLeadLepton', 'LpNu', 'LmNu', 'WpBoson', 'WmBoson', 'Higgs', 'MET', 'xi_p_m_xyz', 'Bxy_yz_zx']\n",
    "data =      [ LeptonP ,  LeptonM ,  diLepton ,  LeadLepton ,  subLeadLepton,NeutrinoP,NeutrinoM,WpBoson,  WmBoson ,  Higgs ,  MET ,  xi_p_m_xyz , Bxy_yz_zx ]\n",
    "'''\n",
    "#tag = [recoMET,recoLeadingLep,recoSubleadLep,truthMET,truthLeadingLep,truthSubleadLep,truthLeadingNu,truthSubleadNu,truthLeadingW,truthSubleadW,truthHiggs]"
   ]
  },
  {
   "cell_type": "code",
   "execution_count": 5,
   "id": "de5f8399",
   "metadata": {},
   "outputs": [
    {
     "name": "stdout",
     "output_type": "stream",
     "text": [
      "0 reco_MET\n",
      "1 reco_leading_lep\n",
      "2 reco_sublead_lep\n",
      "3 truth_MET\n",
      "4 truth_leading_lep\n",
      "5 truth_sublead_lep\n",
      "6 truth_leading_nu\n",
      "7 truth_sublead_nu\n",
      "8 truth_leading_w\n",
      "9 truth_sublead_w\n",
      "10 truth_Higgs\n",
      "CPU times: user 17.6 s, sys: 3.38 s, total: 20.9 s\n",
      "Wall time: 41.6 s\n"
     ]
    }
   ],
   "source": [
    "%%time\n",
    "DFs = [  recoMET ,   recoLeadingLep ,   recoSubleadLep ,  truthMET ,   truthLeadingLep ,   truthSubleadLep ,   truthLeadingNu ,   truthSubleadNu  ,   truthLeadingW ,   truthSubleadW,   truthHiggs ]\n",
    "Dir = ['reco_MET','reco_leading_lep','reco_sublead_lep','truth_MET','truth_leading_lep','truth_sublead_lep','truth_leading_nu','truth_sublead_nu' ,'truth_leading_w','truth_sublead_w','truth_Higgs']\n",
    "Tag = [2,1,1,2,0,0,0,0,0,0,0]\n",
    "Labels = [truth_particle_labels,reco_particle_labels,MET_labels]\n",
    "for i, j in enumerate(Dir):\n",
    "    print(i,j)\n",
    "    for k in range(17):\n",
    "        df = pd.read_csv(filepath+f'{j}/{j}_{k}.csv',\n",
    "                                 index_col=False,\n",
    "                                 header=None,\n",
    "                                 names=Labels[Tag[i]],\n",
    "                                 usecols=[n for n in range(len(Labels[Tag[i]]))])\n",
    "        DFs[i] = pd.concat([DFs[i],df], ignore_index=True)\n"
   ]
  },
  {
   "cell_type": "code",
   "execution_count": 6,
   "id": "88330477",
   "metadata": {},
   "outputs": [],
   "source": [
    "noTauDF = pd.DataFrame(columns=['noTau','DF','cand'])\n",
    "for k in range(17):\n",
    "    df = pd.read_csv(filepath+f'noTau_DF/noTau_DF_{k}.csv',\n",
    "                             index_col=False,\n",
    "                             header=None,\n",
    "                             names=['noTau','DF','cand'],\n",
    "                             usecols=[n for n in range(len(['noTau','DF','cand']))])\n",
    "    noTauDF = pd.concat([noTauDF,df], ignore_index=True)\n"
   ]
  },
  {
   "cell_type": "code",
   "execution_count": 14,
   "id": "f1b2c328",
   "metadata": {},
   "outputs": [
    {
     "data": {
      "text/plain": [
       "True"
      ]
     },
     "execution_count": 14,
     "metadata": {},
     "output_type": "execute_result"
    }
   ],
   "source": [
    "noTauDF['DF'][0] == 0"
   ]
  },
  {
   "cell_type": "code",
   "execution_count": 45,
   "id": "5bec4516",
   "metadata": {},
   "outputs": [
    {
     "name": "stdout",
     "output_type": "stream",
     "text": [
      "0 LeptonP (5475536, 9)\n",
      "1 LeptonM (5475536, 9)\n",
      "2 diLepton (5475536, 9)\n",
      "3 LeadLepton (5475536, 9)\n",
      "4 subLeadLepton (5475536, 9)\n",
      "5 LpNu (5475536, 9)\n",
      "6 LmNu (5475536, 9)\n",
      "7 WpBoson (5475536, 9)\n",
      "8 WmBoson (5475536, 9)\n",
      "9 Higgs (5475536, 9)\n",
      "10 MET (5475536, 4)\n",
      "11 xi_p_m_xyz (5475536, 6)\n",
      "12 Bxy_yz_zx (5475536, 3)\n"
     ]
    }
   ],
   "source": [
    "for i in range(len(filenames)):\n",
    "    print(i,filenames[i],data[i].shape)"
   ]
  },
  {
   "cell_type": "code",
   "execution_count": 18,
   "id": "636f8dd7",
   "metadata": {},
   "outputs": [],
   "source": [
    "np.savez_compressed(filepath + npz_dir + 'noTauDFCand', noTau = noTauDF['noTau'].to_numpy(),\n",
    "                                                        DF    = noTauDF['DF'   ].to_numpy(),\n",
    "                                                        cand  = noTauDF['cand' ].to_numpy())"
   ]
  },
  {
   "cell_type": "code",
   "execution_count": 16,
   "id": "2c86f76f",
   "metadata": {},
   "outputs": [
    {
     "name": "stdout",
     "output_type": "stream",
     "text": [
      "../../public/CSV_output/features_1/npz_files/reco_MET\n",
      "../../public/CSV_output/features_1/npz_files/truth_MET\n",
      "../../public/CSV_output/features_1/npz_files/reco_leading_lep\n",
      "../../public/CSV_output/features_1/npz_files/reco_sublead_lep\n",
      "../../public/CSV_output/features_1/npz_files/truth_leading_lep\n",
      "../../public/CSV_output/features_1/npz_files/truth_sublead_lep\n",
      "../../public/CSV_output/features_1/npz_files/truth_leading_nu\n",
      "../../public/CSV_output/features_1/npz_files/truth_sublead_nu\n",
      "../../public/CSV_output/features_1/npz_files/truth_leading_w\n",
      "../../public/CSV_output/features_1/npz_files/truth_sublead_w\n",
      "../../public/CSV_output/features_1/npz_files/truth_Higgs\n",
      "CPU times: user 1min 18s, sys: 443 ms, total: 1min 19s\n",
      "Wall time: 1min 20s\n"
     ]
    }
   ],
   "source": [
    "%%time\n",
    "npz_dir = 'npz_files/'\n",
    "for i in [0,3]:\n",
    "    print(filepath + npz_dir + Dir[i])\n",
    "#'''\n",
    "    np.savez_compressed(filepath + npz_dir + Dir[i], pt    = DFs[i][MET_labels[0]].to_numpy(),\n",
    "                                                     px    = DFs[i][MET_labels[1]].to_numpy(),\n",
    "                                                     py    = DFs[i][MET_labels[2]].to_numpy(),\n",
    "                                                     phi   = DFs[i][MET_labels[3]].to_numpy())\n",
    "#'''\n",
    "for i in [1,2]:\n",
    "    print(filepath + npz_dir + Dir[i])\n",
    "#'''\n",
    "    np.savez_compressed(filepath + npz_dir + Dir[i], E     = DFs[i][reco_particle_labels[0]].to_numpy(),\n",
    "                                                     px    = DFs[i][reco_particle_labels[1]].to_numpy(),\n",
    "                                                     py    = DFs[i][reco_particle_labels[2]].to_numpy(),\n",
    "                                                     pz    = DFs[i][reco_particle_labels[3]].to_numpy(),\n",
    "                                                     m     = DFs[i][reco_particle_labels[4]].to_numpy(),\n",
    "                                                     pt    = DFs[i][reco_particle_labels[5]].to_numpy(),\n",
    "                                                     eta   = DFs[i][reco_particle_labels[6]].to_numpy(),\n",
    "                                                     phi   = DFs[i][reco_particle_labels[7]].to_numpy())\n",
    "#'''\n",
    "for i in [4,5,6,7,8,9,10]:\n",
    "    print(filepath + npz_dir + Dir[i])\n",
    "#'''\n",
    "    np.savez_compressed(filepath + npz_dir + Dir[i], E     = DFs[i][truth_particle_labels[0]].to_numpy(),\n",
    "                                                     px    = DFs[i][truth_particle_labels[1]].to_numpy(),\n",
    "                                                     py    = DFs[i][truth_particle_labels[2]].to_numpy(),\n",
    "                                                     pz    = DFs[i][truth_particle_labels[3]].to_numpy(),\n",
    "                                                     m2    = DFs[i][truth_particle_labels[4]].to_numpy(),\n",
    "                                                     pt    = DFs[i][truth_particle_labels[5]].to_numpy(),\n",
    "                                                     eta   = DFs[i][truth_particle_labels[6]].to_numpy(),\n",
    "                                                     phi   = DFs[i][truth_particle_labels[7]].to_numpy(),\n",
    "                                                     pdgId = DFs[i][truth_particle_labels[8]].to_numpy())\n",
    "#'''"
   ]
  },
  {
   "cell_type": "code",
   "execution_count": 57,
   "id": "48295202",
   "metadata": {},
   "outputs": [],
   "source": [
    "np.savez_compressed(filepath + npz_dir + 'CGLMP', Bxy = data[12][CGLMP_labels[0]].to_numpy(),\n",
    "                                                  Byz = data[12][CGLMP_labels[1]].to_numpy(),\n",
    "                                                  Bzx = data[12][CGLMP_labels[2]].to_numpy())\n",
    "\n",
    "np.savez_compressed(filepath + npz_dir + 'xi_xyz', xi_p_x = data[11][xi_labels[0]].to_numpy(),\n",
    "                                                   xi_p_y = data[11][xi_labels[1]].to_numpy(),\n",
    "                                                   xi_p_z = data[11][xi_labels[2]].to_numpy(),\n",
    "                                                   xi_m_x = data[11][xi_labels[3]].to_numpy(),\n",
    "                                                   xi_m_y = data[11][xi_labels[4]].to_numpy(),\n",
    "                                                   xi_m_z = data[11][xi_labels[5]].to_numpy())\n",
    "\n",
    "np.savez_compressed(filepath + npz_dir + 'MET', pt  = data[10][MET_labels[0]].to_numpy(),\n",
    "                                                px  = data[10][MET_labels[1]].to_numpy(),\n",
    "                                                py  = data[10][MET_labels[2]].to_numpy(),\n",
    "                                                phi = data[10][MET_labels[3]].to_numpy())"
   ]
  },
  {
   "cell_type": "code",
   "execution_count": 19,
   "id": "5496ae1b",
   "metadata": {
    "scrolled": true
   },
   "outputs": [
    {
     "name": "stdout",
     "output_type": "stream",
     "text": [
      "../../public/CSV_output/features_1/npz_files/noTauDFCand.npz\n",
      "[(1640189,), (1640189,), (1640189,)]\n",
      "../../public/CSV_output/features_1/npz_files/reco_MET.npz\n",
      "[(1640189,), (1640189,), (1640189,), (1640189,)]\n",
      "../../public/CSV_output/features_1/npz_files/reco_leading_lep.npz\n",
      "[(1640189,), (1640189,), (1640189,), (1640189,), (1640189,), (1640189,), (1640189,), (1640189,)]\n",
      "../../public/CSV_output/features_1/npz_files/reco_sublead_lep.npz\n",
      "[(1640189,), (1640189,), (1640189,), (1640189,), (1640189,), (1640189,), (1640189,), (1640189,)]\n",
      "../../public/CSV_output/features_1/npz_files/truth_Higgs.npz\n",
      "[(1640189,), (1640189,), (1640189,), (1640189,), (1640189,), (1640189,), (1640189,), (1640189,), (1640189,)]\n",
      "../../public/CSV_output/features_1/npz_files/truth_MET.npz\n",
      "[(1640189,), (1640189,), (1640189,), (1640189,)]\n",
      "../../public/CSV_output/features_1/npz_files/truth_leading_lep.npz\n",
      "[(1640189,), (1640189,), (1640189,), (1640189,), (1640189,), (1640189,), (1640189,), (1640189,), (1640189,)]\n",
      "../../public/CSV_output/features_1/npz_files/truth_leading_nu.npz\n",
      "[(1640189,), (1640189,), (1640189,), (1640189,), (1640189,), (1640189,), (1640189,), (1640189,), (1640189,)]\n",
      "../../public/CSV_output/features_1/npz_files/truth_leading_w.npz\n",
      "[(1640189,), (1640189,), (1640189,), (1640189,), (1640189,), (1640189,), (1640189,), (1640189,), (1640189,)]\n",
      "../../public/CSV_output/features_1/npz_files/truth_sublead_lep.npz\n",
      "[(1640189,), (1640189,), (1640189,), (1640189,), (1640189,), (1640189,), (1640189,), (1640189,), (1640189,)]\n",
      "../../public/CSV_output/features_1/npz_files/truth_sublead_nu.npz\n",
      "[(1640189,), (1640189,), (1640189,), (1640189,), (1640189,), (1640189,), (1640189,), (1640189,), (1640189,)]\n",
      "../../public/CSV_output/features_1/npz_files/truth_sublead_w.npz\n",
      "[(1640189,), (1640189,), (1640189,), (1640189,), (1640189,), (1640189,), (1640189,), (1640189,), (1640189,)]\n"
     ]
    }
   ],
   "source": [
    "for dirname, _, filenames in os.walk(filepath+npz_dir):\n",
    "    for filename in filenames:\n",
    "        print(os.path.join(dirname, filename))\n",
    "        f = np.load(dirname+filename,allow_pickle=True)\n",
    "        a = f.files\n",
    "        print([f[x].shape for x in a])\n",
    "        #print(f[a[0]].shape)"
   ]
  },
  {
   "cell_type": "code",
   "execution_count": 48,
   "id": "1170a662",
   "metadata": {},
   "outputs": [],
   "source": [
    "npz_dir = 'bkg_npz_files/'\n",
    "\n",
    "NP = np.load(filepath+npz_dir+ 'LpNu.npz')\n",
    "NM = np.load(filepath+npz_dir+ 'LmNu.npz')\n",
    "LP = np.load(filepath+npz_dir+ 'LeptonP.npz')\n",
    "LM = np.load(filepath+npz_dir+ 'LeptonM.npz')\n",
    "H = np.load(filepath+npz_dir + 'Higgs.npz')\n",
    "WP = np.load(filepath+npz_dir+'WpBoson.npz')\n",
    "WM = np.load(filepath+npz_dir+'WmBoson.npz')\n",
    "\n",
    "NeutrinoM = pd.DataFrame()\n",
    "NeutrinoP = pd.DataFrame()\n",
    "LeptonP   = pd.DataFrame()\n",
    "LeptonM   = pd.DataFrame()\n",
    "WpBoson = pd.DataFrame()\n",
    "WmBoson = pd.DataFrame()\n",
    "Higgs = pd.DataFrame()\n",
    "\n",
    "for i, x in enumerate(['E','px','py','pz','m','eta','phi']):\n",
    "    GeV = 0.001 if i < 5 else 1\n",
    "    NeutrinoP[x] = NP[x]*GeV\n",
    "    NeutrinoM[x] = NM[x]*GeV\n",
    "    LeptonP[x]   = LP[x]*GeV\n",
    "    LeptonM[x]   = LM[x]*GeV\n",
    "    Higgs[x]     =  H[x]*GeV\n",
    "    WpBoson[x] = WP[x]*GeV\n",
    "    WmBoson[x] = WM[x]*GeV\n",
    "    \n",
    "del(NP,NM,LP,LM,WP,WM,H)"
   ]
  },
  {
   "cell_type": "code",
   "execution_count": 59,
   "id": "a86a9628",
   "metadata": {},
   "outputs": [],
   "source": [
    "diLepNu = pd.DataFrame()\n",
    "LepNuP  = pd.DataFrame()\n",
    "LepNuM  = pd.DataFrame()\n",
    "diBoson = pd.DataFrame()\n",
    "for i in ['E','px','py','pz']:\n",
    "    diLepNu[i] = NeutrinoP[i]+NeutrinoM[i]+LeptonP[i]+LeptonM[i]\n",
    "    LepNuP[i] = NeutrinoP[i]+LeptonP[i]\n",
    "    LepNuM[i] = NeutrinoM[i]+LeptonM[i]\n",
    "    diBoson[i] = WpBoson[i]+WmBoson[i]"
   ]
  },
  {
   "cell_type": "code",
   "execution_count": 86,
   "id": "25e49b80",
   "metadata": {},
   "outputs": [],
   "source": [
    "metric = np.array([1.,-1.,-1.,-1.])\n",
    "LepNuP['m2'] = np.zeros(len(LeptonP['E'])) \n",
    "LepNuM['m2'] = np.zeros(len(LeptonP['E'])) \n",
    "diLepNu['m2'] = np.zeros(len(LeptonP['E']))\n",
    "Higgs['m2'] = np.zeros(len(LeptonP['E']))\n",
    "diBoson['m2'] = np.zeros(len(LeptonP['E']))\n",
    "for i,x in enumerate(['E','px','py','pz']):\n",
    "    Higgs[  'm2'] =   Higgs['m2'] + metric[i]*(  Higgs[x]**2)\n",
    "    diBoson['m2'] = diBoson['m2'] + metric[i]*(diBoson[x]**2)\n",
    "    diLepNu['m2'] = diLepNu['m2'] + metric[i]*(diLepNu[x]**2)\n",
    "    LepNuP['m2']  =  LepNuP['m2'] + metric[i]*( LepNuM[x]**2)\n",
    "    LepNuM['m2']  =  LepNuM['m2'] + metric[i]*( LepNuM[x]**2)\n",
    "evts = np.where(diBoson['m2'] > 0, True, False)"
   ]
  },
  {
   "cell_type": "code",
   "execution_count": 61,
   "id": "102702b0",
   "metadata": {},
   "outputs": [
    {
     "data": {
      "text/plain": [
       "(array([ True]), array([5475536]))"
      ]
     },
     "execution_count": 61,
     "metadata": {},
     "output_type": "execute_result"
    }
   ],
   "source": [
    "np.unique(evts, return_counts=True)"
   ]
  },
  {
   "cell_type": "code",
   "execution_count": 101,
   "id": "f6601149",
   "metadata": {},
   "outputs": [
    {
     "data": {
      "image/png": "[encoded data removed]",
      "text/plain": [
       "<Figure size 1440x288 with 5 Axes>"
      ]
     },
     "metadata": {
      "needs_background": "light"
     },
     "output_type": "display_data"
    }
   ],
   "source": [
    "fig, ax = plt.subplots(nrows=1,ncols=5, figsize=(20,4),tight_layout=True)\n",
    "for i,x in enumerate(['E','px','py','pz','m2']):\n",
    "    R = [[0,4000],[-200,200],[-200,200],[-4000,4000],[0,1000]]\n",
    "    if i != 4:\n",
    "        ax[i].hist(  Higgs[x],range=R[i],bins=50,histtype='step',lw=1,label=r'$H$')\n",
    "        ax[i].hist(diBoson[x],range=R[i],bins=50,histtype='bar',alpha=0.5,label=r'$WW$')\n",
    "        ax[i].hist(diLepNu[x],range=R[i],bins=50,histtype='step',lw=2,label=r'$\\ell\\nu\\ell\\nu$')\n",
    "    else:\n",
    "        ax[i].hist(np.sqrt(  Higgs[x]),range=R[i],bins=50,histtype='step',lw=1,label=r'$H$')\n",
    "        ax[i].hist(np.sqrt(diBoson[x]),range=R[i],bins=50,histtype='bar',alpha=0.5,label=r'$WW$')\n",
    "        ax[i].hist(np.sqrt(diLepNu[x]),range=R[i],bins=50,histtype='step',lw=2,label=r'$\\ell\\nu\\ell\\nu$')    \n",
    "    ax[i].legend()\n",
    "    ax[i].ticklabel_format(axis='both',useMathText=True,scilimits=(-5,5))\n",
    "\n",
    "plt.show()"
   ]
  },
  {
   "cell_type": "code",
   "execution_count": 100,
   "id": "3f48a877",
   "metadata": {},
   "outputs": [
    {
     "data": {
      "image/png": "[encoded data removed]",
      "text/plain": [
       "<Figure size 1440x288 with 5 Axes>"
      ]
     },
     "metadata": {
      "needs_background": "light"
     },
     "output_type": "display_data"
    }
   ],
   "source": [
    "fig, ax = plt.subplots(nrows=1,ncols=5, figsize=(20,4),tight_layout=True)\n",
    "for i,x in enumerate(['E','px','py','pz','m2']):\n",
    "    R = [[0,4000],[-200,200],[-200,200],[-4000,4000],[0,200]]\n",
    "    if i != 4:\n",
    "        ax[i].hist(LepNuP[x],range=R[i],bins=50,histtype='step',lw=1,label=r'$\\ell^+\\nu$')\n",
    "        ax[i].hist(WpBoson[x],range=R[i],bins=50,histtype='bar',alpha=0.5,label=r'$W^+$')\n",
    "    else:\n",
    "        ax[i].hist(np.sqrt(LepNuP[x]),range=R[i],bins=50,histtype='step',lw=1,label=r'$\\ell^+\\nu$')\n",
    "        ax[i].hist(WpBoson['m'],range=R[i],bins=50,histtype='bar',alpha=0.5,label=r'$W^+$')\n",
    "    ax[i].ticklabel_format(axis='both',useMathText=True,scilimits=(-5,5))\n",
    "    ax[i].legend()\n",
    "plt.show()"
   ]
  },
  {
   "cell_type": "code",
   "execution_count": 99,
   "id": "b1e40fa0",
   "metadata": {},
   "outputs": [
    {
     "data": {
      "image/png": "[encoded data removed]",
      "text/plain": [
       "<Figure size 1440x288 with 5 Axes>"
      ]
     },
     "metadata": {
      "needs_background": "light"
     },
     "output_type": "display_data"
    }
   ],
   "source": [
    "fig, ax = plt.subplots(nrows=1,ncols=5, figsize=(20,4),tight_layout=True)\n",
    "for i,x in enumerate(['E','px','py','pz','m2']):\n",
    "    R = [[0,4000],[-200,200],[-200,200],[-4000,4000],[0,200]]\n",
    "    if i != 4:\n",
    "        ax[i].hist(LepNuM[x],range=R[i],bins=50,histtype='step',lw=1,label=r'$\\ell^- \\bar{\\nu}$')\n",
    "        ax[i].hist(WmBoson[x],range=R[i],bins=50,histtype='bar',alpha=0.5,label=r'$W^-$')\n",
    "    else:\n",
    "        ax[i].hist(np.sqrt(LepNuM[x]),range=R[i],bins=50,histtype='step',lw=1,label=r'$\\ell^- \\bar{\\nu}$')\n",
    "        ax[i].hist(WmBoson['m'],range=R[i],bins=50,histtype='bar',alpha=0.5,label=r'$W^-$')\n",
    "    ax[i].ticklabel_format(axis='both',useMathText=True,scilimits=(-5,5))\n",
    "    ax[i].legend()\n",
    "plt.show()"
   ]
  },
  {
   "cell_type": "code",
   "execution_count": 95,
   "id": "c3f081f7",
   "metadata": {},
   "outputs": [
    {
     "name": "stdout",
     "output_type": "stream",
     "text": [
      "(5475536,)\n",
      "(5475536,)\n",
      "(5475536,)\n"
     ]
    }
   ],
   "source": [
    "Bxyz = np.load(filepath+npz_dir+'CGLMP.npz')\n",
    "Bxy = Bxyz['Bxy']\n",
    "print(Bxy.shape)\n",
    "Byz = Bxyz['Byz']\n",
    "print(Byz.shape)\n",
    "Bzx = Bxyz['Bzx']\n",
    "print(Bzx.shape)"
   ]
  },
  {
   "cell_type": "code",
   "execution_count": 98,
   "id": "650b230b",
   "metadata": {},
   "outputs": [
    {
     "data": {
      "image/png": "[encoded data removed]",
      "text/plain": [
       "<Figure size 864x216 with 3 Axes>"
      ]
     },
     "metadata": {
      "needs_background": "light"
     },
     "output_type": "display_data"
    }
   ],
   "source": [
    "fig,ax = plt.subplots(nrows=1,ncols=3,figsize=(12,3),tight_layout=True)\n",
    "titles = [r'$\\mathcal{B}_{xy}$',r'$\\mathcal{B}_{yz}$',r'$\\mathcal{B}_{zx}$']\n",
    "data = [Bxy, Byz, Bzx]\n",
    "plt.suptitle(\"CGLMP expectation value\"+f' N = {len(Bxy)}')\n",
    "for i in range(3):\n",
    "    ax[i].hist(data[i],histtype='step',bins=50,lw=2)\n",
    "    ax[i].axvline(np.mean(data[i]),ls='dashed',c='r',label='{:.4f}'.format(np.mean(data[i])))\n",
    "    ax[i].set_title(titles[i])\n",
    "    ax[i].ticklabel_format(axis='both',useMathText=True,scilimits=(-5,5))\n",
    "    ax[i].legend()\n",
    "plt.show()"
   ]
  },
  {
   "cell_type": "code",
   "execution_count": null,
   "id": "515194a8",
   "metadata": {},
   "outputs": [],
   "source": []
  }
 ],
 "metadata": {
  "@webio": {
   "lastCommId": null,
   "lastKernelId": null
  },
  "kernelspec": {
   "display_name": "Python 3",
   "language": "python",
   "name": "python3"
  },
  "language_info": {
   "codemirror_mode": {
    "name": "ipython",
    "version": 3
   },
   "file_extension": ".py",
   "mimetype": "text/x-python",
   "name": "python",
   "nbconvert_exporter": "python",
   "pygments_lexer": "ipython3",
   "version": "3.9.12"
  }
 },
 "nbformat": 4,
 "nbformat_minor": 5
}
