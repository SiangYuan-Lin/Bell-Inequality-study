{
 "cells": [
  {
   "cell_type": "code",
   "execution_count": 106,
   "metadata": {},
   "outputs": [
    {
     "name": "stdout",
     "output_type": "stream",
     "text": [
      "Higgs mass=125.017007812\n",
      "Nu eta=1.914047\n",
      "sub W mass=26.441302734\n",
      "A=0.20694465\n",
      "B=0.94148769\n",
      "C=1.04277442\n",
      "D=0.41156245\n",
      "F=-1.43251538\n",
      "K=1.52279823\n",
      "L=-0.00718768\n",
      "cc=62431.3327\n",
      "Det   = 6.14454524\n",
      "Det 1 = 6.14455767\n",
      "-0.396059174\n",
      "0.9912291775885652\n",
      "0.9912306813300122\n",
      "-1.3859094121941506\n",
      "-1.3859103114646982\n"
     ]
    }
   ],
   "source": [
    "#print(E_sublead,\\\n",
    "#     (mH**2 - W_leading.M2()), (W_sublead_m**2) ,( 2*lepton.Dot(W_leading)),\\\n",
    "#     E_leading,W_sublead_m**2)\n",
    "\n",
    "print(f\"Higgs mass={mH}\\nNu eta={nu_eta}\\nsub W mass={W_sublead_m}\")\n",
    "print(\"A={:.8f}\\nB={:.8f}\\nC={:.8f}\\nD={:.8f}\\nF={:.8f}\\nK={:.8f}\\nL={:.8f}\\ncc={:.4f}\".format(A,B,C,D,F,K,L,cc))\n",
    "print(\"Det   = {:.8f}\".format(D**2 - 4*C*F))\n",
    "print(\"Det 1 = {:.8f}\".format(D1**2 - 4*C*F1))\n",
    "\n",
    "print(SubleadNu.at[evtid,'py'])\n",
    "print((-D + np.sqrt(D**2 - 4*C*F))/(2*C))\n",
    "print((-D1 + np.sqrt(D1**2 - 4*C*F1))/(2*C))\n",
    "print((-D - np.sqrt(D**2 - 4*C*F))/(2*C))\n",
    "print((-D1 - np.sqrt(D1**2 - 4*C*F1))/(2*C))"
   ]
  },
  {
   "cell_type": "code",
   "execution_count": 1,
   "metadata": {},
   "outputs": [
    {
     "name": "stdout",
     "output_type": "stream",
     "text": [
      "../Updated signal features/npz files/LeptonP.npz\n",
      "../Updated signal features/npz files/WmBoson.npz\n",
      "../Updated signal features/npz files/LpNu.npz\n",
      "../Updated signal features/npz files/WpBoson.npz\n",
      "../Updated signal features/npz files/MET.npz\n",
      "../Updated signal features/npz files/CGLMP.npz\n",
      "../Updated signal features/npz files/LeadLepton.npz\n",
      "../Updated signal features/npz files/LmNu.npz\n",
      "../Updated signal features/npz files/Higgs.npz\n",
      "../Updated signal features/npz files/subLeadLepton.npz\n",
      "../Updated signal features/npz files/xi_xyz.npz\n",
      "../Updated signal features/npz files/LeptonM.npz\n",
      "../Updated signal features/npz files/diLepton.npz\n"
     ]
    }
   ],
   "source": [
    "# This Python 3 environment comes with many helpful analytics libraries installed\n",
    "# It is defined by the kaggle/python Docker image: https://github.com/kaggle/docker-python\n",
    "# For example, here's several helpful packages to load\n",
    "#import numpy as np # linear algebra\n",
    "#import pandas as pd # data processing, CSV file I/O (e.g. pd.read_csv)\n",
    "import importlib\n",
    "import numpy as np\n",
    "import pandas as pd\n",
    "import matplotlib.pyplot as plt\n",
    "from matplotlib.patches import Rectangle\n",
    "from matplotlib import gridspec, rc\n",
    "import matplotlib as mpl\n",
    "import mplhep as hep\n",
    "import seaborn as sns\n",
    "import scipy as sp\n",
    "# Input data files are available in the read-only \"../input/\" directory\n",
    "# For example, running this (by clicking run or pressing Shift+Enter) will list all files under the input directory\n",
    "import os\n",
    "import my_files as mf\n",
    "import my_vectors as mv\n",
    "\n",
    "filepath = '../Updated signal features/npz files/'\n",
    "for dirname, _, filenames in os.walk(filepath):\n",
    "    for filename in filenames:\n",
    "        print(os.path.join(dirname, filename))\n",
    "my_cmap = mpl.cm.get_cmap(\"jet\").copy()\n",
    "my_cmap.set_under('w')\n",
    "mpl.rcParams['text.usetex'] = True\n",
    "mpl.rcParams['font.family'] = 'serif'\n",
    "mpl.rcParams['font.serif'] = ['Computer Modern']\n",
    "# You can write up to 20GB to the current directory (/kaggle/working/) that gets preserved as output when you create a version using \"Save & Run All\" \n",
    "# You can also write temporary files to /kaggle/temp/, but they won't be saved outside of the current session"
   ]
  },
  {
   "cell_type": "code",
   "execution_count": 3,
   "metadata": {
    "collapsed": true,
    "jupyter": {
     "outputs_hidden": true
    }
   },
   "outputs": [
    {
     "name": "stdout",
     "output_type": "stream",
     "text": [
      "Loaded E from LeptonP.npz collection  ['E', 'px', 'py', 'pz', 'm', 'pt', 'eta', 'phi', 'y'] rows:  2928862\n",
      "Loaded px from LeptonP.npz collection  ['E', 'px', 'py', 'pz', 'm', 'pt', 'eta', 'phi', 'y'] rows:  2928862\n",
      "Loaded py from LeptonP.npz collection  ['E', 'px', 'py', 'pz', 'm', 'pt', 'eta', 'phi', 'y'] rows:  2928862\n",
      "Loaded pz from LeptonP.npz collection  ['E', 'px', 'py', 'pz', 'm', 'pt', 'eta', 'phi', 'y'] rows:  2928862\n",
      "Loaded m from LeptonP.npz collection  ['E', 'px', 'py', 'pz', 'm', 'pt', 'eta', 'phi', 'y'] rows:  2928862\n",
      "Loaded pt from LeptonP.npz collection  ['E', 'px', 'py', 'pz', 'm', 'pt', 'eta', 'phi', 'y'] rows:  2928862\n",
      "Loaded eta from LeptonP.npz collection  ['E', 'px', 'py', 'pz', 'm', 'pt', 'eta', 'phi', 'y'] rows:  2928862\n",
      "Loaded phi from LeptonP.npz collection  ['E', 'px', 'py', 'pz', 'm', 'pt', 'eta', 'phi', 'y'] rows:  2928862\n",
      "Loaded E from LeptonM.npz collection  ['E', 'px', 'py', 'pz', 'm', 'pt', 'eta', 'phi', 'y'] rows:  2928862\n",
      "Loaded px from LeptonM.npz collection  ['E', 'px', 'py', 'pz', 'm', 'pt', 'eta', 'phi', 'y'] rows:  2928862\n",
      "Loaded py from LeptonM.npz collection  ['E', 'px', 'py', 'pz', 'm', 'pt', 'eta', 'phi', 'y'] rows:  2928862\n",
      "Loaded pz from LeptonM.npz collection  ['E', 'px', 'py', 'pz', 'm', 'pt', 'eta', 'phi', 'y'] rows:  2928862\n",
      "Loaded m from LeptonM.npz collection  ['E', 'px', 'py', 'pz', 'm', 'pt', 'eta', 'phi', 'y'] rows:  2928862\n",
      "Loaded pt from LeptonM.npz collection  ['E', 'px', 'py', 'pz', 'm', 'pt', 'eta', 'phi', 'y'] rows:  2928862\n",
      "Loaded eta from LeptonM.npz collection  ['E', 'px', 'py', 'pz', 'm', 'pt', 'eta', 'phi', 'y'] rows:  2928862\n",
      "Loaded phi from LeptonM.npz collection  ['E', 'px', 'py', 'pz', 'm', 'pt', 'eta', 'phi', 'y'] rows:  2928862\n",
      "Loaded E from diLepton.npz collection  ['E', 'px', 'py', 'pz', 'm', 'pt', 'eta', 'phi', 'y'] rows:  2928862\n",
      "Loaded px from diLepton.npz collection  ['E', 'px', 'py', 'pz', 'm', 'pt', 'eta', 'phi', 'y'] rows:  2928862\n",
      "Loaded py from diLepton.npz collection  ['E', 'px', 'py', 'pz', 'm', 'pt', 'eta', 'phi', 'y'] rows:  2928862\n",
      "Loaded pz from diLepton.npz collection  ['E', 'px', 'py', 'pz', 'm', 'pt', 'eta', 'phi', 'y'] rows:  2928862\n",
      "Loaded m from diLepton.npz collection  ['E', 'px', 'py', 'pz', 'm', 'pt', 'eta', 'phi', 'y'] rows:  2928862\n",
      "Loaded pt from diLepton.npz collection  ['E', 'px', 'py', 'pz', 'm', 'pt', 'eta', 'phi', 'y'] rows:  2928862\n",
      "Loaded eta from diLepton.npz collection  ['E', 'px', 'py', 'pz', 'm', 'pt', 'eta', 'phi', 'y'] rows:  2928862\n",
      "Loaded phi from diLepton.npz collection  ['E', 'px', 'py', 'pz', 'm', 'pt', 'eta', 'phi', 'y'] rows:  2928862\n",
      "Loaded E from LpNu.npz collection  ['E', 'px', 'py', 'pz', 'm', 'pt', 'eta', 'phi', 'y'] rows:  2928862\n",
      "Loaded px from LpNu.npz collection  ['E', 'px', 'py', 'pz', 'm', 'pt', 'eta', 'phi', 'y'] rows:  2928862\n",
      "Loaded py from LpNu.npz collection  ['E', 'px', 'py', 'pz', 'm', 'pt', 'eta', 'phi', 'y'] rows:  2928862\n",
      "Loaded pz from LpNu.npz collection  ['E', 'px', 'py', 'pz', 'm', 'pt', 'eta', 'phi', 'y'] rows:  2928862\n",
      "Loaded m from LpNu.npz collection  ['E', 'px', 'py', 'pz', 'm', 'pt', 'eta', 'phi', 'y'] rows:  2928862\n",
      "Loaded pt from LpNu.npz collection  ['E', 'px', 'py', 'pz', 'm', 'pt', 'eta', 'phi', 'y'] rows:  2928862\n",
      "Loaded eta from LpNu.npz collection  ['E', 'px', 'py', 'pz', 'm', 'pt', 'eta', 'phi', 'y'] rows:  2928862\n",
      "Loaded phi from LpNu.npz collection  ['E', 'px', 'py', 'pz', 'm', 'pt', 'eta', 'phi', 'y'] rows:  2928862\n",
      "Loaded E from LmNu.npz collection  ['E', 'px', 'py', 'pz', 'm', 'pt', 'eta', 'phi', 'y'] rows:  2928862\n",
      "Loaded px from LmNu.npz collection  ['E', 'px', 'py', 'pz', 'm', 'pt', 'eta', 'phi', 'y'] rows:  2928862\n",
      "Loaded py from LmNu.npz collection  ['E', 'px', 'py', 'pz', 'm', 'pt', 'eta', 'phi', 'y'] rows:  2928862\n",
      "Loaded pz from LmNu.npz collection  ['E', 'px', 'py', 'pz', 'm', 'pt', 'eta', 'phi', 'y'] rows:  2928862\n",
      "Loaded m from LmNu.npz collection  ['E', 'px', 'py', 'pz', 'm', 'pt', 'eta', 'phi', 'y'] rows:  2928862\n",
      "Loaded pt from LmNu.npz collection  ['E', 'px', 'py', 'pz', 'm', 'pt', 'eta', 'phi', 'y'] rows:  2928862\n",
      "Loaded eta from LmNu.npz collection  ['E', 'px', 'py', 'pz', 'm', 'pt', 'eta', 'phi', 'y'] rows:  2928862\n",
      "Loaded phi from LmNu.npz collection  ['E', 'px', 'py', 'pz', 'm', 'pt', 'eta', 'phi', 'y'] rows:  2928862\n",
      "Loaded E from WpBoson.npz collection  ['E', 'px', 'py', 'pz', 'm', 'pt', 'eta', 'phi', 'y'] rows:  2928862\n",
      "Loaded px from WpBoson.npz collection  ['E', 'px', 'py', 'pz', 'm', 'pt', 'eta', 'phi', 'y'] rows:  2928862\n",
      "Loaded py from WpBoson.npz collection  ['E', 'px', 'py', 'pz', 'm', 'pt', 'eta', 'phi', 'y'] rows:  2928862\n",
      "Loaded pz from WpBoson.npz collection  ['E', 'px', 'py', 'pz', 'm', 'pt', 'eta', 'phi', 'y'] rows:  2928862\n",
      "Loaded m from WpBoson.npz collection  ['E', 'px', 'py', 'pz', 'm', 'pt', 'eta', 'phi', 'y'] rows:  2928862\n",
      "Loaded pt from WpBoson.npz collection  ['E', 'px', 'py', 'pz', 'm', 'pt', 'eta', 'phi', 'y'] rows:  2928862\n",
      "Loaded eta from WpBoson.npz collection  ['E', 'px', 'py', 'pz', 'm', 'pt', 'eta', 'phi', 'y'] rows:  2928862\n",
      "Loaded phi from WpBoson.npz collection  ['E', 'px', 'py', 'pz', 'm', 'pt', 'eta', 'phi', 'y'] rows:  2928862\n",
      "Loaded E from WmBoson.npz collection  ['E', 'px', 'py', 'pz', 'm', 'pt', 'eta', 'phi', 'y'] rows:  2928862\n",
      "Loaded px from WmBoson.npz collection  ['E', 'px', 'py', 'pz', 'm', 'pt', 'eta', 'phi', 'y'] rows:  2928862\n",
      "Loaded py from WmBoson.npz collection  ['E', 'px', 'py', 'pz', 'm', 'pt', 'eta', 'phi', 'y'] rows:  2928862\n",
      "Loaded pz from WmBoson.npz collection  ['E', 'px', 'py', 'pz', 'm', 'pt', 'eta', 'phi', 'y'] rows:  2928862\n",
      "Loaded m from WmBoson.npz collection  ['E', 'px', 'py', 'pz', 'm', 'pt', 'eta', 'phi', 'y'] rows:  2928862\n",
      "Loaded pt from WmBoson.npz collection  ['E', 'px', 'py', 'pz', 'm', 'pt', 'eta', 'phi', 'y'] rows:  2928862\n",
      "Loaded eta from WmBoson.npz collection  ['E', 'px', 'py', 'pz', 'm', 'pt', 'eta', 'phi', 'y'] rows:  2928862\n",
      "Loaded phi from WmBoson.npz collection  ['E', 'px', 'py', 'pz', 'm', 'pt', 'eta', 'phi', 'y'] rows:  2928862\n",
      "Loaded E from Higgs.npz collection  ['E', 'px', 'py', 'pz', 'm', 'pt', 'eta', 'phi', 'y'] rows:  2928862\n",
      "Loaded px from Higgs.npz collection  ['E', 'px', 'py', 'pz', 'm', 'pt', 'eta', 'phi', 'y'] rows:  2928862\n",
      "Loaded py from Higgs.npz collection  ['E', 'px', 'py', 'pz', 'm', 'pt', 'eta', 'phi', 'y'] rows:  2928862\n",
      "Loaded pz from Higgs.npz collection  ['E', 'px', 'py', 'pz', 'm', 'pt', 'eta', 'phi', 'y'] rows:  2928862\n",
      "Loaded m from Higgs.npz collection  ['E', 'px', 'py', 'pz', 'm', 'pt', 'eta', 'phi', 'y'] rows:  2928862\n",
      "Loaded pt from Higgs.npz collection  ['E', 'px', 'py', 'pz', 'm', 'pt', 'eta', 'phi', 'y'] rows:  2928862\n",
      "Loaded eta from Higgs.npz collection  ['E', 'px', 'py', 'pz', 'm', 'pt', 'eta', 'phi', 'y'] rows:  2928862\n",
      "Loaded phi from Higgs.npz collection  ['E', 'px', 'py', 'pz', 'm', 'pt', 'eta', 'phi', 'y'] rows:  2928862\n",
      "Loaded pt from MET.npz collection  ['pt', 'px', 'py', 'phi'] rows:  2928862\n",
      "Loaded px from MET.npz collection  ['pt', 'px', 'py', 'phi'] rows:  2928862\n",
      "Loaded py from MET.npz collection  ['pt', 'px', 'py', 'phi'] rows:  2928862\n",
      "Loaded phi from MET.npz collection  ['pt', 'px', 'py', 'phi'] rows:  2928862\n",
      "CPU times: user 17.8 s, sys: 765 ms, total: 18.6 s\n",
      "Wall time: 18.1 s\n"
     ]
    }
   ],
   "source": [
    "%%time\n",
    "\n",
    "GeV = 0.001\n",
    "LeptonP = mf.load_particle('LeptonP.npz', None, GeV)\n",
    "LeptonM = mf.load_particle('LeptonM.npz', None, GeV)\n",
    "diLepton = mf.load_particle('diLepton.npz',None, GeV)\n",
    "NeutrinoP = mf.load_particle('LpNu.npz', None, GeV)\n",
    "NeutrinoM = mf.load_particle('LmNu.npz', None, GeV)\n",
    "WBosonP = mf.load_particle('WpBoson.npz', None, GeV)\n",
    "WBosonM = mf.load_particle('WmBoson.npz', None, GeV)\n",
    "Higgs = mf.load_particle('Higgs.npz', None, GeV)\n",
    "MET = np.load(filepath+'MET.npz')\n",
    "f = MET.files\n",
    "MET = pd.DataFrame()\n",
    "for i,j in enumerate(f):\n",
    "    W = 1 if j == 'phi' else GeV\n",
    "    MET[j] = mf.load_evt('MET.npz',j,None)*W\n",
    "\n",
    "diNeutrino = pd.DataFrame()\n",
    "diNeutrino['E'  ] = NeutrinoP['E' ]+NeutrinoM['E' ]\n",
    "diNeutrino['px' ] = NeutrinoP['px']+NeutrinoM['px']\n",
    "diNeutrino['py' ] = NeutrinoP['py']+NeutrinoM['py']\n",
    "diNeutrino['pz' ] = NeutrinoP['pz']+NeutrinoM['pz']\n",
    "diNeutrino['m2' ] = mv.vinv_mass_2(diNeutrino['E'],diNeutrino['px'],diNeutrino['py'],diNeutrino['pz'])\n",
    "diNeutrino['P'  ] = mv.vvec_mag(diNeutrino['px'],diNeutrino['py'],diNeutrino['pz'])\n",
    "diNeutrino['pt' ] = np.sqrt(diNeutrino['px']**2 + diNeutrino['py']**2)\n",
    "diNeutrino['phi'] = np.arctan2(diNeutrino['py'],diNeutrino['px'])\n",
    "diNeutrino['eta'] = np.arctanh(diNeutrino['pz']/diNeutrino['P'])"
   ]
  },
  {
   "cell_type": "code",
   "execution_count": 356,
   "metadata": {},
   "outputs": [],
   "source": [
    "sigma_x = np.std(MET['px'])\n",
    "sigma_y = np.std(MET['py'])\n",
    "mH = 125\n",
    "#mH = Higgs.at[evtid,'m'] # Higgs mass\n",
    "#nu_eta = SubleadNu.at[evtid,'eta'] # scan parameter (store truth value)\n",
    "#W_sublead_m = SubleadW.at[evtid,'m'] g# scan parameter (store truth value)\n",
    "\n",
    "def solve_neutrino(evtid, nu_eta, W_sublead_m):\n",
    "    lepton = mv.LorentzVector(Sublead.at[evtid,'px'],\\\n",
    "                             Sublead.at[evtid,'py'],\\\n",
    "                             Sublead.at[evtid,'pz'],\\\n",
    "                             Sublead.at[evtid,'E' ]) # leptonically decaying side\n",
    "\n",
    "    W_leading = mv.LorentzVector(LeadingW.at[evtid,'px'],\\\n",
    "                                 LeadingW.at[evtid,'py'],\\\n",
    "                                 LeadingW.at[evtid,'pz'],\\\n",
    "                                 LeadingW.at[evtid,'E' ]) # hadronically decaying side\n",
    "    E_sublead = lepton.E()*np.cosh(nu_eta) - lepton.Pz()*np.sinh(nu_eta)\n",
    "    E_leading = W_leading.E()*np.cosh(nu_eta) - W_leading.Pz()*np.sinh(nu_eta)\n",
    "    A = (lepton.Py()*E_leading - W_leading.Py()*E_sublead)\n",
    "    A = A/(W_leading.Px()*E_sublead - lepton.Px()*E_leading)\n",
    "    L = (A*lepton.Px() + lepton.Py())/E_sublead\n",
    "    C = A**2 + 1 - L**2\n",
    "    cc = (2*(lepton.Px()*E_leading - W_leading.Px()*E_sublead))\n",
    "    B = (E_sublead*(mH**2 - W_leading.M2() - W_sublead_m**2 - 2*lepton.Dot(W_leading))) - E_leading*W_sublead_m**2\n",
    "    B = B/cc\n",
    "    K = (W_sublead_m**2/2 + lepton.Px()*B)/E_sublead\n",
    "    #D = 2*(A*B - K*L)\n",
    "    D = 2*(A*B - K*L + A*(lepton.M2()*E_leading/cc) - L*(lepton.M2()*W_leading.Px()/cc))\n",
    "    #F = B**2 - K**2\n",
    "    F = (B + (lepton.M2()*E_leading/cc))**2 - (K + (lepton.M2()*W_leading.Px()/cc))**2\n",
    "    DET = D**2 - 4*C*F\n",
    "    if DET == 0:\n",
    "        y = (-D/(2*C))\n",
    "        x = B + (lepton.M2()*E_leading/cc) + A*y \n",
    "        sol = np.array([(x,y)])\n",
    "    elif DET < 0:\n",
    "        sol = np.array([(-99999,-99999)])\n",
    "    elif DET > 0:\n",
    "        y = ((-D + np.sqrt(DET))/(2*C))\n",
    "        x = B + (lepton.M2()*E_leading/cc) + A*y \n",
    "        sol_1 = (x,y)\n",
    "        y = ((-D - np.sqrt(DET))/(2*C))\n",
    "        x = B + (lepton.M2()*E_leading/cc) + A*y \n",
    "        sol_2 = (x,y)\n",
    "        sol = np.array([sol_1, sol_2])\n",
    "    return sol    \n",
    "    \n",
    "def calculate_weight(evtid, solutions):\n",
    "    MET_px = MET.at[evtid, 'px'] - LeadingNu.at[evtid, 'px']\n",
    "    MET_py = MET.at[evtid, 'py'] - LeadingNu.at[evtid, 'py']\n",
    "    #MET_px = SubleadNu.at[evtid, 'px']\n",
    "    #MET_py = SubleadNu.at[evtid, 'py']\n",
    "    tmp = -99999\n",
    "    for i,a in enumerate(solutions):\n",
    "        if a[0] == -99999:\n",
    "            hist_weight = -1\n",
    "            #print(\"Negative determinant\")\n",
    "        else:\n",
    "            #w = np.exp(-((a[0] - MET_px)/(2*sigma_x))**2)*np.exp(-((a[-1] - MET_py)/(2*sigma_y))**2)\n",
    "            w = np.exp(-((a[0] - MET_px))**2)*np.exp(-((a[-1] - MET_py))**2)\n",
    "            hist_weight = max(w, tmp)\n",
    "            tmp = w\n",
    "            #print(\"weight {}: {:.4f}\".format(i,w))\n",
    "    return hist_weight\n",
    "\n"
   ]
  },
  {
   "cell_type": "code",
   "execution_count": 454,
   "metadata": {},
   "outputs": [
    {
     "name": "stdout",
     "output_type": "stream",
     "text": [
      "[[-99999 -99999]]\n",
      "-1\n",
      "CPU times: user 831 µs, sys: 0 ns, total: 831 µs\n",
      "Wall time: 773 µs\n"
     ]
    }
   ],
   "source": [
    "%%time\n",
    "S = solve_neutrino(evt_id,y,x)\n",
    "print(S)\n",
    "W = calculate_weight(evt_id,solutions)\n",
    "print(W)"
   ]
  },
  {
   "cell_type": "code",
   "execution_count": 458,
   "metadata": {},
   "outputs": [
    {
     "name": "stdout",
     "output_type": "stream",
     "text": [
      "CPU times: user 42 s, sys: 3.63 ms, total: 42 s\n",
      "Wall time: 42 s\n"
     ]
    }
   ],
   "source": [
    "%%time\n",
    "evt_id = np.random.choice(len(Higgs['E']))\n",
    "#evt_id = 236469\n",
    "N_div = 1000\n",
    "nu_eta_bin = np.linspace(-5,5,N_div)\n",
    "W_sublead_m_bin = np.linspace(0,100,N_div)\n",
    "grid_x, grid_y = np.meshgrid(W_sublead_m_bin,nu_eta_bin)\n",
    "grid_w = np.zeros((N_div,N_div))\n",
    "for i,y in enumerate(nu_eta_bin):\n",
    "    for j,x in enumerate(W_sublead_m_bin):\n",
    "        solutions = solve_neutrino(evt_id,y,x)\n",
    "        grid_w[i,j] = calculate_weight(evt_id,solutions)\n",
    "j,i = np.unravel_index(grid_w.argmax(),grid_w.shape)\n",
    "grid_weight = grid_w\n",
    "grid_weight[j,i] = -1*grid_w[j,i]\n",
    "l,k= np.unravel_index(grid_weight.argmax(),grid_weight.shape) "
   ]
  },
  {
   "cell_type": "code",
   "execution_count": 459,
   "metadata": {},
   "outputs": [
    {
     "data": {
      "image/png": "[encoded data removed]",
      "text/plain": [
       "<Figure size 600x600 with 1 Axes>"
      ]
     },
     "metadata": {},
     "output_type": "display_data"
    }
   ],
   "source": [
    "#meshgrid\n",
    "'''\n",
    "    |--------------------> x axis\n",
    "    |z[i,j] = [[00,01,02],\n",
    "    |          [10,11,12],\n",
    "    |          [20,21,22]]\n",
    "    V\n",
    "  y axis\n",
    "\n",
    "[y,x] <--> (x,y)\n",
    "array[i,j] = x \n",
    "numpy unravel_index of element x returns j,i \n",
    "'''\n",
    "fig, ax = plt.subplots(figsize=(6,6))\n",
    "ax.set_title(f\"Event {evt_id}\")\n",
    "ax.set_xlabel(\"Mass of W boson (parent of subleading lepton) [GeV]\")\n",
    "ax.set_ylabel(\"Pseudorapidity of neutrino (paired with subleading lepton)\")\n",
    "ax.contourf(grid_x, grid_y, grid_w, cmap=my_cmap, vmin=0)\n",
    "sol = solve_neutrino(evt_id,nu_eta_bin[j],W_sublead_m_bin[i])\n",
    "if len(sol) == 1:\n",
    "    x,y = sol\n",
    "elif len(sol) > 1:\n",
    "    x,y = sol[0] if calculate_weight(evt_id,[sol[0]]) > calculate_weight(evt_id,[sol[1]]) else sol[1]\n",
    "    \n",
    "else:\n",
    "    x,y = 'n/a','n/a'\n",
    "ax.axvline(W_sublead_m_bin[i], ls='dotted', c='r', lw=1, label='Estimate\\n(x,y)=({:.4f},{:.4f})'.format(x,y))\n",
    "ax.axhline(nu_eta_bin[j], ls='dotted', c='r', lw=1)\n",
    "ax.axvline(SubleadW.at[evt_id,'m'], ls='dashed', c='k', lw=1, label='Truth\\n(x,y)=({:.4f},{:.4f})'.format(SubleadNu.at[evt_id,'px'],SubleadNu.at[evt_id,'py']))\n",
    "ax.axhline(SubleadNu.at[evt_id, 'eta'], ls='dashed', c='k', lw=1)\n",
    "##### 2nd greatest weight #####\n",
    "\n",
    "sol = solve_neutrino(evt_id,nu_eta_bin[l],W_sublead_m_bin[k])\n",
    "if len(sol) == 1:\n",
    "    x,y = sol\n",
    "elif len(sol) > 1:\n",
    "    x,y = sol[0] if calculate_weight(evt_id,[sol[0]]) > calculate_weight(evt_id,[sol[1]]) else sol[1]\n",
    "    \n",
    "else:\n",
    "    x,y = 'n/a','n/a'\n",
    "#ax.axline([W_sublead_m_bin[k],nu_eta_bin[l]],slope=0.1, ls='dotted', c='g', lw=1, label='2nd Estimate\\n(x,y)=({:.4f},{:.4f})'.format(x,y))\n",
    "#ax.axline([W_sublead_m_bin[k],nu_eta_bin[l]],slope=-0.1, ls='dotted', c='g', lw=1)\n",
    "ax.axvline(W_sublead_m_bin[k], ls='dotted', c='g', lw=1, label='2nd Estimate\\n(x,y)=({:.4f},{:.4f})'.format(x,y))\n",
    "ax.axhline(nu_eta_bin[l], ls='dotted', c='g', lw=1)\n",
    "ax.legend()\n",
    "plt.show()"
   ]
  },
  {
   "cell_type": "code",
   "execution_count": 450,
   "metadata": {},
   "outputs": [
    {
     "data": {
      "text/plain": [
       "(array([False,  True]), array([      3, 2928859]))"
      ]
     },
     "execution_count": 450,
     "metadata": {},
     "output_type": "execute_result"
    }
   ],
   "source": [
    "selection = np.where(diNeutrino['m2'] >= 0, True, False)\n",
    "fig, ax = plt.subplots(nrows = 1, ncols=1, figsize=(6,6))\n",
    "ax.hist2d()\n",
    "\n",
    "\n",
    "\n"
   ]
  },
  {
   "cell_type": "code",
   "execution_count": 385,
   "metadata": {},
   "outputs": [
    {
     "name": "stdout",
     "output_type": "stream",
     "text": [
      "[[-19.2548859   -4.86630112]\n",
      " [-15.06086506 -15.12593184]]\n",
      "453 97\n",
      "9.70970970970971 -0.4654654654654653 0.9549324037050829\n",
      "0.89.0.78.0.62\n",
      "0.95.0.95.0.85\n",
      "0.81.-0.96.-0.99\n",
      "453 96\n",
      "9.60960960960961 -0.4654654654654653 0.9498475192443986\n",
      "0.91.0.89.0.78\n",
      "0.83.0.95.-0.95\n",
      "0.58.0.81.-0.96\n"
     ]
    }
   ],
   "source": [
    "print(sol)\n",
    "w1 = (calculate_weight(evt_id,[sol[0]]))\n",
    "w2 = (calculate_weight(evt_id,[sol[1]]))\n",
    "\n",
    "j,i = np.unravel_index(grid_w.argmax(),grid_w.shape)\n",
    "print(j,i)\n",
    "print(W_sublead_m_bin[i],nu_eta_bin[j],grid_w[j,i])\n",
    "print('{:.2f}.{:.2f}.{:.2f}'.format(grid_w[j+1,i-1],grid_w[j+1,i],grid_w[j+1,i+1]))\n",
    "print('{:.2f}.{:.2f}.{:.2f}'.format(grid_w[j  ,i-1],grid_w[j  ,i],grid_w[j  ,i+1]))\n",
    "print('{:.2f}.{:.2f}.{:.2f}'.format(grid_w[j-1,i-1],grid_w[j-1,i],grid_w[j-1,i+1]))\n",
    "grid_weight = grid_w\n",
    "grid_weight[j,i] = -1*grid_w[j,i]\n",
    "j,i = np.unravel_index(grid_weight.argmax(),grid_weight.shape)\n",
    "print(j,i)\n",
    "print(W_sublead_m_bin[i],nu_eta_bin[j],grid_weight[j,i])\n",
    "print('{:.2f}.{:.2f}.{:.2f}'.format(grid_weight[j+1,i-1],grid_weight[j+1,i],grid_weight[j+1,i+1]))\n",
    "print('{:.2f}.{:.2f}.{:.2f}'.format(grid_weight[j  ,i-1],grid_weight[j  ,i],grid_weight[j  ,i+1]))\n",
    "print('{:.2f}.{:.2f}.{:.2f}'.format(grid_weight[j-1,i-1],grid_weight[j-1,i],grid_weight[j-1,i+1]))"
   ]
  },
  {
   "cell_type": "raw",
   "metadata": {},
   "source": [
    "[[-0.87918397  3.46711935]\n",
    " [ 2.85794511  2.26265662]]\n",
    "36.33633633633634 -4.67967967967968\n",
    "36.33633633633634 -4.68968968968969"
   ]
  },
  {
   "cell_type": "code",
   "execution_count": 4,
   "metadata": {
    "collapsed": true,
    "jupyter": {
     "outputs_hidden": true
    }
   },
   "outputs": [
    {
     "name": "stdout",
     "output_type": "stream",
     "text": [
      "Loaded E from LeadLepton.npz collection  ['E', 'px', 'py', 'pz', 'm', 'pt', 'eta', 'phi', 'y'] rows:  2928862\n",
      "Loaded px from LeadLepton.npz collection  ['E', 'px', 'py', 'pz', 'm', 'pt', 'eta', 'phi', 'y'] rows:  2928862\n",
      "Loaded py from LeadLepton.npz collection  ['E', 'px', 'py', 'pz', 'm', 'pt', 'eta', 'phi', 'y'] rows:  2928862\n",
      "Loaded pz from LeadLepton.npz collection  ['E', 'px', 'py', 'pz', 'm', 'pt', 'eta', 'phi', 'y'] rows:  2928862\n",
      "Loaded m from LeadLepton.npz collection  ['E', 'px', 'py', 'pz', 'm', 'pt', 'eta', 'phi', 'y'] rows:  2928862\n",
      "Loaded pt from LeadLepton.npz collection  ['E', 'px', 'py', 'pz', 'm', 'pt', 'eta', 'phi', 'y'] rows:  2928862\n",
      "Loaded eta from LeadLepton.npz collection  ['E', 'px', 'py', 'pz', 'm', 'pt', 'eta', 'phi', 'y'] rows:  2928862\n",
      "Loaded phi from LeadLepton.npz collection  ['E', 'px', 'py', 'pz', 'm', 'pt', 'eta', 'phi', 'y'] rows:  2928862\n",
      "Loaded E from subLeadLepton.npz collection  ['E', 'px', 'py', 'pz', 'm', 'pt', 'eta', 'phi', 'y'] rows:  2928862\n",
      "Loaded px from subLeadLepton.npz collection  ['E', 'px', 'py', 'pz', 'm', 'pt', 'eta', 'phi', 'y'] rows:  2928862\n",
      "Loaded py from subLeadLepton.npz collection  ['E', 'px', 'py', 'pz', 'm', 'pt', 'eta', 'phi', 'y'] rows:  2928862\n",
      "Loaded pz from subLeadLepton.npz collection  ['E', 'px', 'py', 'pz', 'm', 'pt', 'eta', 'phi', 'y'] rows:  2928862\n",
      "Loaded m from subLeadLepton.npz collection  ['E', 'px', 'py', 'pz', 'm', 'pt', 'eta', 'phi', 'y'] rows:  2928862\n",
      "Loaded pt from subLeadLepton.npz collection  ['E', 'px', 'py', 'pz', 'm', 'pt', 'eta', 'phi', 'y'] rows:  2928862\n",
      "Loaded eta from subLeadLepton.npz collection  ['E', 'px', 'py', 'pz', 'm', 'pt', 'eta', 'phi', 'y'] rows:  2928862\n",
      "Loaded phi from subLeadLepton.npz collection  ['E', 'px', 'py', 'pz', 'm', 'pt', 'eta', 'phi', 'y'] rows:  2928862\n",
      "CPU times: user 6.3 s, sys: 533 ms, total: 6.84 s\n",
      "Wall time: 6.76 s\n"
     ]
    }
   ],
   "source": [
    "%%time\n",
    "Plead = np.where(LeptonP['pt']>LeptonM['pt'], True, False)\n",
    "Mlead = np.where(LeptonP['pt']<LeptonM['pt'], True, False)\n",
    "Leading = mf.load_particle('LeadLepton.npz', None, GeV)\n",
    "Sublead = mf.load_particle('subLeadLepton.npz', None, GeV)\n",
    "WPlead = np.where(LeptonP['pt']>LeptonM['pt'], True, False)\n",
    "WMlead = np.where(LeptonP['pt']<LeptonM['pt'], True, False)\n",
    "LeadingW = WBosonP[Plead].combine_first(WBosonM[Mlead])\n",
    "SubleadW = WBosonP[Mlead].combine_first(WBosonM[Plead])\n",
    "LeadingNu = NeutrinoP[Plead].combine_first(NeutrinoM[Mlead])\n",
    "SubleadNu = NeutrinoP[Mlead].combine_first(NeutrinoM[Plead])"
   ]
  },
  {
   "cell_type": "code",
   "execution_count": 209,
   "metadata": {},
   "outputs": [
    {
     "data": {
      "image/png": "[encoded data removed]",
      "text/plain": [
       "<Figure size 600x450 with 1 Axes>"
      ]
     },
     "metadata": {},
     "output_type": "display_data"
    }
   ],
   "source": [
    "s = 1.5\n",
    "p,q = 1,1\n",
    "fig, ax = plt.subplots(nrows=p, ncols=q, figsize = (4*s*p,3*s*q))\n",
    "ax.hist(NeutrinoP['eta'], bins = 50, range = [-6,6], histtype = 'step', lw=2, label = r'${\\nu}$')\n",
    "ax.hist(NeutrinoM['eta'], bins = 50, range = [-6,6], histtype = 'bar', alpha = 0.5, label = r'$\\bar{\\nu}$')\n",
    "ax.set_xlabel(r\"$\\eta$\")\n",
    "ax.set_ylabel(r'Counts')\n",
    "ax.set_title(\"Neutrino pseudorapidity distribution\")\n",
    "ax.legend()\n",
    "ax.ticklabel_format(axis='y', style='sci', useMathText=True, scilimits=(-4,4))\n",
    "plt.show()"
   ]
  },
  {
   "cell_type": "code",
   "execution_count": 120,
   "metadata": {},
   "outputs": [
    {
     "data": {
      "image/png": "[encoded data removed]",
      "text/plain": [
       "<Figure size 600x450 with 1 Axes>"
      ]
     },
     "metadata": {},
     "output_type": "display_data"
    }
   ],
   "source": [
    "s = 1.5\n",
    "p,q = 1,1\n",
    "fig, ax = plt.subplots(nrows=p, ncols=q, figsize = (4*s*p,3*s*q))\n",
    "ax.hist(LeadingW['m'], bins = 50, range = [0,100], histtype = 'step', lw=2, label = r'Leading $\\ell$'+' W\\nN={}'.format(len(LeadingW['m'])))\n",
    "ax.hist(SubleadW['m'], bins = 50, range = [0,100], histtype = 'bar', alpha = 0.5, label = r'Subleading $\\ell$'+' W\\nN={}'.format(len(SubleadW['m'])))\n",
    "ax.set_xlabel(r\"[GeV]\")\n",
    "ax.set_ylabel(r'Counts')\n",
    "ax.set_title(\"W boson mass distribution\")\n",
    "ax.legend(loc=2)\n",
    "ax.ticklabel_format(axis='y', style='sci', useMathText=True, scilimits=(-4,4))\n",
    "plt.show()"
   ]
  }
 ],
 "metadata": {
  "kernelspec": {
   "display_name": "Python 3 (ipykernel)",
   "language": "python",
   "name": "python3"
  },
  "language_info": {
   "codemirror_mode": {
    "name": "ipython",
    "version": 3
   },
   "file_extension": ".py",
   "mimetype": "text/x-python",
   "name": "python",
   "nbconvert_exporter": "python",
   "pygments_lexer": "ipython3",
   "version": "3.9.16"
  }
 },
 "nbformat": 4,
 "nbformat_minor": 4
}
